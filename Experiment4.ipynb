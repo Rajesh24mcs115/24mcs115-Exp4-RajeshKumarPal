{
  "nbformat": 4,
  "nbformat_minor": 0,
  "metadata": {
    "colab": {
      "provenance": [],
      "authorship_tag": "ABX9TyOfXMKYVbegYpIkWLSnCTkX",
      "include_colab_link": true
    },
    "kernelspec": {
      "name": "python3",
      "display_name": "Python 3"
    },
    "language_info": {
      "name": "python"
    }
  },
  "cells": [
    {
      "cell_type": "markdown",
      "metadata": {
        "id": "view-in-github",
        "colab_type": "text"
      },
      "source": [
        "<a href=\"https://colab.research.google.com/github/Rajesh24mcs115/24mcs115-Exp4-RajeshKumarPal/blob/main/Experiment4.ipynb\" target=\"_parent\"><img src=\"https://colab.research.google.com/assets/colab-badge.svg\" alt=\"Open In Colab\"/></a>"
      ]
    },
    {
      "cell_type": "code",
      "execution_count": null,
      "metadata": {
        "colab": {
          "base_uri": "https://localhost:8080/"
        },
        "id": "hX488sChKy1U",
        "outputId": "bbe1ada9-4d7a-4cc1-80de-ff55afb464a6"
      },
      "outputs": [
        {
          "output_type": "stream",
          "name": "stdout",
          "text": [
            "Requirement already satisfied: wandb in /usr/local/lib/python3.11/dist-packages (0.19.7)\n",
            "Requirement already satisfied: click!=8.0.0,>=7.1 in /usr/local/lib/python3.11/dist-packages (from wandb) (8.1.8)\n",
            "Requirement already satisfied: docker-pycreds>=0.4.0 in /usr/local/lib/python3.11/dist-packages (from wandb) (0.4.0)\n",
            "Requirement already satisfied: gitpython!=3.1.29,>=1.0.0 in /usr/local/lib/python3.11/dist-packages (from wandb) (3.1.44)\n",
            "Requirement already satisfied: platformdirs in /usr/local/lib/python3.11/dist-packages (from wandb) (4.3.6)\n",
            "Requirement already satisfied: protobuf!=4.21.0,!=5.28.0,<6,>=3.19.0 in /usr/local/lib/python3.11/dist-packages (from wandb) (4.25.6)\n",
            "Requirement already satisfied: psutil>=5.0.0 in /usr/local/lib/python3.11/dist-packages (from wandb) (5.9.5)\n",
            "Requirement already satisfied: pydantic<3,>=2.6 in /usr/local/lib/python3.11/dist-packages (from wandb) (2.10.6)\n",
            "Requirement already satisfied: pyyaml in /usr/local/lib/python3.11/dist-packages (from wandb) (6.0.2)\n",
            "Requirement already satisfied: requests<3,>=2.0.0 in /usr/local/lib/python3.11/dist-packages (from wandb) (2.32.3)\n",
            "Requirement already satisfied: sentry-sdk>=2.0.0 in /usr/local/lib/python3.11/dist-packages (from wandb) (2.22.0)\n",
            "Requirement already satisfied: setproctitle in /usr/local/lib/python3.11/dist-packages (from wandb) (1.3.5)\n",
            "Requirement already satisfied: setuptools in /usr/local/lib/python3.11/dist-packages (from wandb) (75.1.0)\n",
            "Requirement already satisfied: typing-extensions<5,>=4.4 in /usr/local/lib/python3.11/dist-packages (from wandb) (4.12.2)\n",
            "Requirement already satisfied: six>=1.4.0 in /usr/local/lib/python3.11/dist-packages (from docker-pycreds>=0.4.0->wandb) (1.17.0)\n",
            "Requirement already satisfied: gitdb<5,>=4.0.1 in /usr/local/lib/python3.11/dist-packages (from gitpython!=3.1.29,>=1.0.0->wandb) (4.0.12)\n",
            "Requirement already satisfied: annotated-types>=0.6.0 in /usr/local/lib/python3.11/dist-packages (from pydantic<3,>=2.6->wandb) (0.7.0)\n",
            "Requirement already satisfied: pydantic-core==2.27.2 in /usr/local/lib/python3.11/dist-packages (from pydantic<3,>=2.6->wandb) (2.27.2)\n",
            "Requirement already satisfied: charset-normalizer<4,>=2 in /usr/local/lib/python3.11/dist-packages (from requests<3,>=2.0.0->wandb) (3.4.1)\n",
            "Requirement already satisfied: idna<4,>=2.5 in /usr/local/lib/python3.11/dist-packages (from requests<3,>=2.0.0->wandb) (3.10)\n",
            "Requirement already satisfied: urllib3<3,>=1.21.1 in /usr/local/lib/python3.11/dist-packages (from requests<3,>=2.0.0->wandb) (2.3.0)\n",
            "Requirement already satisfied: certifi>=2017.4.17 in /usr/local/lib/python3.11/dist-packages (from requests<3,>=2.0.0->wandb) (2025.1.31)\n",
            "Requirement already satisfied: smmap<6,>=3.0.1 in /usr/local/lib/python3.11/dist-packages (from gitdb<5,>=4.0.1->gitpython!=3.1.29,>=1.0.0->wandb) (5.0.2)\n"
          ]
        }
      ],
      "source": [
        "!pip install wandb"
      ]
    },
    {
      "cell_type": "code",
      "source": [
        "import wandb"
      ],
      "metadata": {
        "id": "BqgLyhroL5qG"
      },
      "execution_count": null,
      "outputs": []
    },
    {
      "cell_type": "code",
      "source": [
        "wandb.login()"
      ],
      "metadata": {
        "colab": {
          "base_uri": "https://localhost:8080/",
          "height": 208
        },
        "id": "JbiMqea9MVI3",
        "outputId": "4bf6f321-a0ef-4148-b789-94880a330173"
      },
      "execution_count": null,
      "outputs": [
        {
          "output_type": "stream",
          "name": "stderr",
          "text": [
            "\u001b[34m\u001b[1mwandb\u001b[0m: Using wandb-core as the SDK backend.  Please refer to https://wandb.me/wandb-core for more information.\n"
          ]
        },
        {
          "output_type": "display_data",
          "data": {
            "text/plain": [
              "<IPython.core.display.Javascript object>"
            ],
            "application/javascript": [
              "\n",
              "        window._wandbApiKey = new Promise((resolve, reject) => {\n",
              "            function loadScript(url) {\n",
              "            return new Promise(function(resolve, reject) {\n",
              "                let newScript = document.createElement(\"script\");\n",
              "                newScript.onerror = reject;\n",
              "                newScript.onload = resolve;\n",
              "                document.body.appendChild(newScript);\n",
              "                newScript.src = url;\n",
              "            });\n",
              "            }\n",
              "            loadScript(\"https://cdn.jsdelivr.net/npm/postmate/build/postmate.min.js\").then(() => {\n",
              "            const iframe = document.createElement('iframe')\n",
              "            iframe.style.cssText = \"width:0;height:0;border:none\"\n",
              "            document.body.appendChild(iframe)\n",
              "            const handshake = new Postmate({\n",
              "                container: iframe,\n",
              "                url: 'https://wandb.ai/authorize'\n",
              "            });\n",
              "            const timeout = setTimeout(() => reject(\"Couldn't auto authenticate\"), 5000)\n",
              "            handshake.then(function(child) {\n",
              "                child.on('authorize', data => {\n",
              "                    clearTimeout(timeout)\n",
              "                    resolve(data)\n",
              "                });\n",
              "            });\n",
              "            })\n",
              "        });\n",
              "    "
            ]
          },
          "metadata": {}
        },
        {
          "output_type": "stream",
          "name": "stderr",
          "text": [
            "\u001b[34m\u001b[1mwandb\u001b[0m: Logging into wandb.ai. (Learn how to deploy a W&B server locally: https://wandb.me/wandb-server)\n",
            "\u001b[34m\u001b[1mwandb\u001b[0m: You can find your API key in your browser here: https://wandb.ai/authorize\n",
            "wandb: Paste an API key from your profile and hit enter:"
          ]
        },
        {
          "name": "stdout",
          "output_type": "stream",
          "text": [
            " ··········\n"
          ]
        },
        {
          "output_type": "stream",
          "name": "stderr",
          "text": [
            "\u001b[34m\u001b[1mwandb\u001b[0m: \u001b[33mWARNING\u001b[0m If you're specifying your api key in code, ensure this code is not shared publicly.\n",
            "\u001b[34m\u001b[1mwandb\u001b[0m: \u001b[33mWARNING\u001b[0m Consider setting the WANDB_API_KEY environment variable, or running `wandb login` from the command line.\n",
            "\u001b[34m\u001b[1mwandb\u001b[0m: No netrc file found, creating one.\n",
            "\u001b[34m\u001b[1mwandb\u001b[0m: Appending key for api.wandb.ai to your netrc file: /root/.netrc\n",
            "\u001b[34m\u001b[1mwandb\u001b[0m: Currently logged in as: \u001b[33m24mcs115\u001b[0m (\u001b[33m24mcs115-national-institute-of-technology-hamirpur\u001b[0m) to \u001b[32mhttps://api.wandb.ai\u001b[0m. Use \u001b[1m`wandb login --relogin`\u001b[0m to force relogin\n"
          ]
        },
        {
          "output_type": "execute_result",
          "data": {
            "text/plain": [
              "True"
            ]
          },
          "metadata": {},
          "execution_count": 3
        }
      ]
    },
    {
      "cell_type": "code",
      "source": [
        "wandb.finish()"
      ],
      "metadata": {
        "id": "jtNyqUppMafD"
      },
      "execution_count": null,
      "outputs": []
    },
    {
      "cell_type": "code",
      "source": [
        "import wandb\n",
        "import random\n",
        "\n",
        "# Define a simple training function\n",
        "def train_dummy_model(config=None):\n",
        "    with wandb.init(config=config):\n",
        "        config = wandb.config\n",
        "\n",
        "        # Simulate training for 5 epochs\n",
        "        for epoch in range(5):\n",
        "            loss = random.uniform(0.1, 1.0)  # Generate random loss\n",
        "            wandb.log({\"loss\": loss})  # Log loss to WandB\n",
        "\n",
        "            print(f\"Epoch {epoch+1}: Loss = {loss:.4f}\")\n",
        "\n",
        "# Define the sweep configuration\n",
        "sweep_config = {\n",
        "    \"method\": \"random\",\n",
        "    \"metric\": {\"name\": \"loss\", \"goal\": \"minimize\"},\n",
        "    \"parameters\": {\n",
        "        \"learning_rate\": {\"values\": [0.01, 0.001]},\n",
        "        \"batch_size\": {\"values\": [16, 32]}\n",
        "    }\n",
        "}\n",
        "\n",
        "# Initialize the sweep\n",
        "sweep_id = wandb.sweep(sweep_config, project=\"wandb-sweep-test\")\n",
        "\n",
        "# Run the agent\n",
        "wandb.agent(sweep_id, function=train_dummy_model, count=3)"
      ],
      "metadata": {
        "colab": {
          "base_uri": "https://localhost:8080/",
          "height": 1000
        },
        "id": "suOosYt2M7k8",
        "outputId": "c9a82d6a-975e-4264-ae4f-98c502087536"
      },
      "execution_count": null,
      "outputs": [
        {
          "output_type": "stream",
          "name": "stdout",
          "text": [
            "Create sweep with ID: ujc4ow0y\n",
            "Sweep URL: https://wandb.ai/24mcs115-national-institute-of-technology-hamirpur/wandb-sweep-test/sweeps/ujc4ow0y\n"
          ]
        },
        {
          "output_type": "stream",
          "name": "stderr",
          "text": [
            "\u001b[34m\u001b[1mwandb\u001b[0m: Agent Starting Run: 30zrmlmr with config:\n",
            "\u001b[34m\u001b[1mwandb\u001b[0m: \tbatch_size: 16\n",
            "\u001b[34m\u001b[1mwandb\u001b[0m: \tlearning_rate: 0.001\n"
          ]
        },
        {
          "output_type": "display_data",
          "data": {
            "text/plain": [
              "<IPython.core.display.HTML object>"
            ],
            "text/html": [
              "Tracking run with wandb version 0.19.7"
            ]
          },
          "metadata": {}
        },
        {
          "output_type": "display_data",
          "data": {
            "text/plain": [
              "<IPython.core.display.HTML object>"
            ],
            "text/html": [
              "Run data is saved locally in <code>/content/wandb/run-20250302_045415-30zrmlmr</code>"
            ]
          },
          "metadata": {}
        },
        {
          "output_type": "display_data",
          "data": {
            "text/plain": [
              "<IPython.core.display.HTML object>"
            ],
            "text/html": [
              "Syncing run <strong><a href='https://wandb.ai/24mcs115-national-institute-of-technology-hamirpur/wandb-sweep-test/runs/30zrmlmr' target=\"_blank\">usual-sweep-1</a></strong> to <a href='https://wandb.ai/24mcs115-national-institute-of-technology-hamirpur/wandb-sweep-test' target=\"_blank\">Weights & Biases</a> (<a href='https://wandb.me/developer-guide' target=\"_blank\">docs</a>)<br>Sweep page: <a href='https://wandb.ai/24mcs115-national-institute-of-technology-hamirpur/wandb-sweep-test/sweeps/ujc4ow0y' target=\"_blank\">https://wandb.ai/24mcs115-national-institute-of-technology-hamirpur/wandb-sweep-test/sweeps/ujc4ow0y</a>"
            ]
          },
          "metadata": {}
        },
        {
          "output_type": "display_data",
          "data": {
            "text/plain": [
              "<IPython.core.display.HTML object>"
            ],
            "text/html": [
              " View project at <a href='https://wandb.ai/24mcs115-national-institute-of-technology-hamirpur/wandb-sweep-test' target=\"_blank\">https://wandb.ai/24mcs115-national-institute-of-technology-hamirpur/wandb-sweep-test</a>"
            ]
          },
          "metadata": {}
        },
        {
          "output_type": "display_data",
          "data": {
            "text/plain": [
              "<IPython.core.display.HTML object>"
            ],
            "text/html": [
              " View sweep at <a href='https://wandb.ai/24mcs115-national-institute-of-technology-hamirpur/wandb-sweep-test/sweeps/ujc4ow0y' target=\"_blank\">https://wandb.ai/24mcs115-national-institute-of-technology-hamirpur/wandb-sweep-test/sweeps/ujc4ow0y</a>"
            ]
          },
          "metadata": {}
        },
        {
          "output_type": "display_data",
          "data": {
            "text/plain": [
              "<IPython.core.display.HTML object>"
            ],
            "text/html": [
              " View run at <a href='https://wandb.ai/24mcs115-national-institute-of-technology-hamirpur/wandb-sweep-test/runs/30zrmlmr' target=\"_blank\">https://wandb.ai/24mcs115-national-institute-of-technology-hamirpur/wandb-sweep-test/runs/30zrmlmr</a>"
            ]
          },
          "metadata": {}
        },
        {
          "output_type": "stream",
          "name": "stdout",
          "text": [
            "Epoch 1: Loss = 0.5315\n",
            "Epoch 2: Loss = 0.2636\n",
            "Epoch 3: Loss = 0.8032\n",
            "Epoch 4: Loss = 0.5764\n",
            "Epoch 5: Loss = 0.7451\n"
          ]
        },
        {
          "output_type": "display_data",
          "data": {
            "text/plain": [
              "<IPython.core.display.HTML object>"
            ],
            "text/html": []
          },
          "metadata": {}
        },
        {
          "output_type": "display_data",
          "data": {
            "text/plain": [
              "<IPython.core.display.HTML object>"
            ],
            "text/html": [
              "<br>    <style><br>        .wandb-row {<br>            display: flex;<br>            flex-direction: row;<br>            flex-wrap: wrap;<br>            justify-content: flex-start;<br>            width: 100%;<br>        }<br>        .wandb-col {<br>            display: flex;<br>            flex-direction: column;<br>            flex-basis: 100%;<br>            flex: 1;<br>            padding: 10px;<br>        }<br>    </style><br><div class=\"wandb-row\"><div class=\"wandb-col\"><h3>Run history:</h3><br/><table class=\"wandb\"><tr><td>loss</td><td>▄▁█▅▇</td></tr></table><br/></div><div class=\"wandb-col\"><h3>Run summary:</h3><br/><table class=\"wandb\"><tr><td>loss</td><td>0.74506</td></tr></table><br/></div></div>"
            ]
          },
          "metadata": {}
        },
        {
          "output_type": "display_data",
          "data": {
            "text/plain": [
              "<IPython.core.display.HTML object>"
            ],
            "text/html": [
              " View run <strong style=\"color:#cdcd00\">usual-sweep-1</strong> at: <a href='https://wandb.ai/24mcs115-national-institute-of-technology-hamirpur/wandb-sweep-test/runs/30zrmlmr' target=\"_blank\">https://wandb.ai/24mcs115-national-institute-of-technology-hamirpur/wandb-sweep-test/runs/30zrmlmr</a><br> View project at: <a href='https://wandb.ai/24mcs115-national-institute-of-technology-hamirpur/wandb-sweep-test' target=\"_blank\">https://wandb.ai/24mcs115-national-institute-of-technology-hamirpur/wandb-sweep-test</a><br>Synced 5 W&B file(s), 0 media file(s), 0 artifact file(s) and 0 other file(s)"
            ]
          },
          "metadata": {}
        },
        {
          "output_type": "display_data",
          "data": {
            "text/plain": [
              "<IPython.core.display.HTML object>"
            ],
            "text/html": [
              "Find logs at: <code>./wandb/run-20250302_045415-30zrmlmr/logs</code>"
            ]
          },
          "metadata": {}
        },
        {
          "output_type": "stream",
          "name": "stderr",
          "text": [
            "\u001b[34m\u001b[1mwandb\u001b[0m: Agent Starting Run: msap24mx with config:\n",
            "\u001b[34m\u001b[1mwandb\u001b[0m: \tbatch_size: 32\n",
            "\u001b[34m\u001b[1mwandb\u001b[0m: \tlearning_rate: 0.001\n"
          ]
        },
        {
          "output_type": "display_data",
          "data": {
            "text/plain": [
              "<IPython.core.display.HTML object>"
            ],
            "text/html": [
              "Tracking run with wandb version 0.19.7"
            ]
          },
          "metadata": {}
        },
        {
          "output_type": "display_data",
          "data": {
            "text/plain": [
              "<IPython.core.display.HTML object>"
            ],
            "text/html": [
              "Run data is saved locally in <code>/content/wandb/run-20250302_045426-msap24mx</code>"
            ]
          },
          "metadata": {}
        },
        {
          "output_type": "display_data",
          "data": {
            "text/plain": [
              "<IPython.core.display.HTML object>"
            ],
            "text/html": [
              "Syncing run <strong><a href='https://wandb.ai/24mcs115-national-institute-of-technology-hamirpur/wandb-sweep-test/runs/msap24mx' target=\"_blank\">twilight-sweep-2</a></strong> to <a href='https://wandb.ai/24mcs115-national-institute-of-technology-hamirpur/wandb-sweep-test' target=\"_blank\">Weights & Biases</a> (<a href='https://wandb.me/developer-guide' target=\"_blank\">docs</a>)<br>Sweep page: <a href='https://wandb.ai/24mcs115-national-institute-of-technology-hamirpur/wandb-sweep-test/sweeps/ujc4ow0y' target=\"_blank\">https://wandb.ai/24mcs115-national-institute-of-technology-hamirpur/wandb-sweep-test/sweeps/ujc4ow0y</a>"
            ]
          },
          "metadata": {}
        },
        {
          "output_type": "display_data",
          "data": {
            "text/plain": [
              "<IPython.core.display.HTML object>"
            ],
            "text/html": [
              " View project at <a href='https://wandb.ai/24mcs115-national-institute-of-technology-hamirpur/wandb-sweep-test' target=\"_blank\">https://wandb.ai/24mcs115-national-institute-of-technology-hamirpur/wandb-sweep-test</a>"
            ]
          },
          "metadata": {}
        },
        {
          "output_type": "display_data",
          "data": {
            "text/plain": [
              "<IPython.core.display.HTML object>"
            ],
            "text/html": [
              " View sweep at <a href='https://wandb.ai/24mcs115-national-institute-of-technology-hamirpur/wandb-sweep-test/sweeps/ujc4ow0y' target=\"_blank\">https://wandb.ai/24mcs115-national-institute-of-technology-hamirpur/wandb-sweep-test/sweeps/ujc4ow0y</a>"
            ]
          },
          "metadata": {}
        },
        {
          "output_type": "display_data",
          "data": {
            "text/plain": [
              "<IPython.core.display.HTML object>"
            ],
            "text/html": [
              " View run at <a href='https://wandb.ai/24mcs115-national-institute-of-technology-hamirpur/wandb-sweep-test/runs/msap24mx' target=\"_blank\">https://wandb.ai/24mcs115-national-institute-of-technology-hamirpur/wandb-sweep-test/runs/msap24mx</a>"
            ]
          },
          "metadata": {}
        },
        {
          "output_type": "stream",
          "name": "stdout",
          "text": [
            "Epoch 1: Loss = 0.7562\n",
            "Epoch 2: Loss = 0.9511\n",
            "Epoch 3: Loss = 0.4918\n",
            "Epoch 4: Loss = 0.4549\n",
            "Epoch 5: Loss = 0.5379\n"
          ]
        },
        {
          "output_type": "display_data",
          "data": {
            "text/plain": [
              "<IPython.core.display.HTML object>"
            ],
            "text/html": []
          },
          "metadata": {}
        },
        {
          "output_type": "display_data",
          "data": {
            "text/plain": [
              "<IPython.core.display.HTML object>"
            ],
            "text/html": [
              "<br>    <style><br>        .wandb-row {<br>            display: flex;<br>            flex-direction: row;<br>            flex-wrap: wrap;<br>            justify-content: flex-start;<br>            width: 100%;<br>        }<br>        .wandb-col {<br>            display: flex;<br>            flex-direction: column;<br>            flex-basis: 100%;<br>            flex: 1;<br>            padding: 10px;<br>        }<br>    </style><br><div class=\"wandb-row\"><div class=\"wandb-col\"><h3>Run history:</h3><br/><table class=\"wandb\"><tr><td>loss</td><td>▅█▂▁▂</td></tr></table><br/></div><div class=\"wandb-col\"><h3>Run summary:</h3><br/><table class=\"wandb\"><tr><td>loss</td><td>0.53794</td></tr></table><br/></div></div>"
            ]
          },
          "metadata": {}
        },
        {
          "output_type": "display_data",
          "data": {
            "text/plain": [
              "<IPython.core.display.HTML object>"
            ],
            "text/html": [
              " View run <strong style=\"color:#cdcd00\">twilight-sweep-2</strong> at: <a href='https://wandb.ai/24mcs115-national-institute-of-technology-hamirpur/wandb-sweep-test/runs/msap24mx' target=\"_blank\">https://wandb.ai/24mcs115-national-institute-of-technology-hamirpur/wandb-sweep-test/runs/msap24mx</a><br> View project at: <a href='https://wandb.ai/24mcs115-national-institute-of-technology-hamirpur/wandb-sweep-test' target=\"_blank\">https://wandb.ai/24mcs115-national-institute-of-technology-hamirpur/wandb-sweep-test</a><br>Synced 5 W&B file(s), 0 media file(s), 0 artifact file(s) and 0 other file(s)"
            ]
          },
          "metadata": {}
        },
        {
          "output_type": "display_data",
          "data": {
            "text/plain": [
              "<IPython.core.display.HTML object>"
            ],
            "text/html": [
              "Find logs at: <code>./wandb/run-20250302_045426-msap24mx/logs</code>"
            ]
          },
          "metadata": {}
        },
        {
          "output_type": "stream",
          "name": "stderr",
          "text": [
            "\u001b[34m\u001b[1mwandb\u001b[0m: Sweep Agent: Waiting for job.\n",
            "\u001b[34m\u001b[1mwandb\u001b[0m: Job received.\n",
            "\u001b[34m\u001b[1mwandb\u001b[0m: Agent Starting Run: 5sdf0ji3 with config:\n",
            "\u001b[34m\u001b[1mwandb\u001b[0m: \tbatch_size: 16\n",
            "\u001b[34m\u001b[1mwandb\u001b[0m: \tlearning_rate: 0.001\n"
          ]
        },
        {
          "output_type": "display_data",
          "data": {
            "text/plain": [
              "<IPython.core.display.HTML object>"
            ],
            "text/html": [
              "Tracking run with wandb version 0.19.7"
            ]
          },
          "metadata": {}
        },
        {
          "output_type": "display_data",
          "data": {
            "text/plain": [
              "<IPython.core.display.HTML object>"
            ],
            "text/html": [
              "Run data is saved locally in <code>/content/wandb/run-20250302_045441-5sdf0ji3</code>"
            ]
          },
          "metadata": {}
        },
        {
          "output_type": "display_data",
          "data": {
            "text/plain": [
              "<IPython.core.display.HTML object>"
            ],
            "text/html": [
              "Syncing run <strong><a href='https://wandb.ai/24mcs115-national-institute-of-technology-hamirpur/wandb-sweep-test/runs/5sdf0ji3' target=\"_blank\">stellar-sweep-3</a></strong> to <a href='https://wandb.ai/24mcs115-national-institute-of-technology-hamirpur/wandb-sweep-test' target=\"_blank\">Weights & Biases</a> (<a href='https://wandb.me/developer-guide' target=\"_blank\">docs</a>)<br>Sweep page: <a href='https://wandb.ai/24mcs115-national-institute-of-technology-hamirpur/wandb-sweep-test/sweeps/ujc4ow0y' target=\"_blank\">https://wandb.ai/24mcs115-national-institute-of-technology-hamirpur/wandb-sweep-test/sweeps/ujc4ow0y</a>"
            ]
          },
          "metadata": {}
        },
        {
          "output_type": "display_data",
          "data": {
            "text/plain": [
              "<IPython.core.display.HTML object>"
            ],
            "text/html": [
              " View project at <a href='https://wandb.ai/24mcs115-national-institute-of-technology-hamirpur/wandb-sweep-test' target=\"_blank\">https://wandb.ai/24mcs115-national-institute-of-technology-hamirpur/wandb-sweep-test</a>"
            ]
          },
          "metadata": {}
        },
        {
          "output_type": "display_data",
          "data": {
            "text/plain": [
              "<IPython.core.display.HTML object>"
            ],
            "text/html": [
              " View sweep at <a href='https://wandb.ai/24mcs115-national-institute-of-technology-hamirpur/wandb-sweep-test/sweeps/ujc4ow0y' target=\"_blank\">https://wandb.ai/24mcs115-national-institute-of-technology-hamirpur/wandb-sweep-test/sweeps/ujc4ow0y</a>"
            ]
          },
          "metadata": {}
        },
        {
          "output_type": "display_data",
          "data": {
            "text/plain": [
              "<IPython.core.display.HTML object>"
            ],
            "text/html": [
              " View run at <a href='https://wandb.ai/24mcs115-national-institute-of-technology-hamirpur/wandb-sweep-test/runs/5sdf0ji3' target=\"_blank\">https://wandb.ai/24mcs115-national-institute-of-technology-hamirpur/wandb-sweep-test/runs/5sdf0ji3</a>"
            ]
          },
          "metadata": {}
        },
        {
          "output_type": "stream",
          "name": "stdout",
          "text": [
            "Epoch 1: Loss = 0.2693\n",
            "Epoch 2: Loss = 0.1321\n",
            "Epoch 3: Loss = 0.8324\n",
            "Epoch 4: Loss = 0.9320\n",
            "Epoch 5: Loss = 0.7922\n"
          ]
        },
        {
          "output_type": "display_data",
          "data": {
            "text/plain": [
              "<IPython.core.display.HTML object>"
            ],
            "text/html": []
          },
          "metadata": {}
        },
        {
          "output_type": "display_data",
          "data": {
            "text/plain": [
              "<IPython.core.display.HTML object>"
            ],
            "text/html": [
              "<br>    <style><br>        .wandb-row {<br>            display: flex;<br>            flex-direction: row;<br>            flex-wrap: wrap;<br>            justify-content: flex-start;<br>            width: 100%;<br>        }<br>        .wandb-col {<br>            display: flex;<br>            flex-direction: column;<br>            flex-basis: 100%;<br>            flex: 1;<br>            padding: 10px;<br>        }<br>    </style><br><div class=\"wandb-row\"><div class=\"wandb-col\"><h3>Run history:</h3><br/><table class=\"wandb\"><tr><td>loss</td><td>▂▁▇█▇</td></tr></table><br/></div><div class=\"wandb-col\"><h3>Run summary:</h3><br/><table class=\"wandb\"><tr><td>loss</td><td>0.79222</td></tr></table><br/></div></div>"
            ]
          },
          "metadata": {}
        },
        {
          "output_type": "display_data",
          "data": {
            "text/plain": [
              "<IPython.core.display.HTML object>"
            ],
            "text/html": [
              " View run <strong style=\"color:#cdcd00\">stellar-sweep-3</strong> at: <a href='https://wandb.ai/24mcs115-national-institute-of-technology-hamirpur/wandb-sweep-test/runs/5sdf0ji3' target=\"_blank\">https://wandb.ai/24mcs115-national-institute-of-technology-hamirpur/wandb-sweep-test/runs/5sdf0ji3</a><br> View project at: <a href='https://wandb.ai/24mcs115-national-institute-of-technology-hamirpur/wandb-sweep-test' target=\"_blank\">https://wandb.ai/24mcs115-national-institute-of-technology-hamirpur/wandb-sweep-test</a><br>Synced 5 W&B file(s), 0 media file(s), 0 artifact file(s) and 0 other file(s)"
            ]
          },
          "metadata": {}
        },
        {
          "output_type": "display_data",
          "data": {
            "text/plain": [
              "<IPython.core.display.HTML object>"
            ],
            "text/html": [
              "Find logs at: <code>./wandb/run-20250302_045441-5sdf0ji3/logs</code>"
            ]
          },
          "metadata": {}
        }
      ]
    },
    {
      "cell_type": "code",
      "source": [
        "import numpy as np\n",
        "import torch\n",
        "import torch.nn as nn\n",
        "import torch.optim as optim\n",
        "import wandb\n",
        "from tensorflow.keras.datasets import fashion_mnist\n",
        "from sklearn.model_selection import train_test_split\n",
        "\n",
        "# Define a flexible neural network\n",
        "class FashionMNISTModel(nn.Module):\n",
        "    def __init__(self, input_size, hidden_layers, layer_size, output_size, activation, weight_init):\n",
        "        super(FashionMNISTModel, self).__init__()\n",
        "        layers = []\n",
        "        prev_size = input_size\n",
        "\n",
        "        for _ in range(hidden_layers):\n",
        "            layer = nn.Linear(prev_size, layer_size)\n",
        "            if weight_init == 'Xavier':\n",
        "                nn.init.xavier_uniform_(layer.weight)\n",
        "            layers.append(layer)\n",
        "            layers.append(activation())\n",
        "            prev_size = layer_size\n",
        "\n",
        "        layers.append(nn.Linear(prev_size, output_size))\n",
        "        self.model = nn.Sequential(*layers)\n",
        "\n",
        "    def forward(self, x):\n",
        "        return self.model(x)\n",
        "\n",
        "# Training function\n",
        "def train_network(config=None):\n",
        "    with wandb.init(config=config):\n",
        "        config = wandb.config\n",
        "\n",
        "        # Load dataset\n",
        "        (X_train, y_train), (X_test, y_test) = fashion_mnist.load_data()\n",
        "        X_train = X_train.reshape(X_train.shape[0], -1) / 255.0\n",
        "        X_test = X_test.reshape(X_test.shape[0], -1) / 255.0\n",
        "\n",
        "        # Select only 20 random samples\n",
        "        random_indices = np.random.choice(len(X_train), 20, replace=False)\n",
        "        X_train, y_train = X_train[random_indices], y_train[random_indices]\n",
        "\n",
        "        # Split into train and validation sets (90% train, 10% validation)\n",
        "        X_train, X_val, y_train, y_val = train_test_split(X_train, y_train, test_size=0.1, random_state=42)\n",
        "\n",
        "        # Convert to PyTorch tensors\n",
        "        tensor_x_train = torch.tensor(X_train, dtype=torch.float32)\n",
        "        tensor_y_train = torch.tensor(y_train, dtype=torch.long)\n",
        "        train_loader = torch.utils.data.DataLoader(torch.utils.data.TensorDataset(tensor_x_train, tensor_y_train),\n",
        "                                                   batch_size=config.batch_size, shuffle=True)\n",
        "\n",
        "        tensor_x_val = torch.tensor(X_val, dtype=torch.float32)\n",
        "        tensor_y_val = torch.tensor(y_val, dtype=torch.long)\n",
        "        val_loader = torch.utils.data.DataLoader(torch.utils.data.TensorDataset(tensor_x_val, tensor_y_val),\n",
        "                                                 batch_size=config.batch_size, shuffle=False)\n",
        "\n",
        "        # Initialize model\n",
        "        activation_fn = {'sigmoid': nn.Sigmoid, 'tanh': nn.Tanh, 'ReLU': nn.ReLU}[config.activation]\n",
        "        model = FashionMNISTModel(X_train.shape[1], config.hidden_layers, config.layer_size, 10,\n",
        "                                  activation=activation_fn, weight_init=config.weight_init)\n",
        "\n",
        "        # Define optimizer\n",
        "        optimizer = getattr(optim, config.optimizer)(model.parameters(), lr=config.learning_rate, weight_decay=config.weight_decay)\n",
        "        criterion = nn.CrossEntropyLoss()\n",
        "\n",
        "        # Training loop\n",
        "        for epoch in range(config.epochs):\n",
        "            model.train()\n",
        "            epoch_loss = 0\n",
        "            for data, target in train_loader:\n",
        "                optimizer.zero_grad()\n",
        "                output = model(data)\n",
        "                loss = criterion(output, target)\n",
        "                loss.backward()\n",
        "                optimizer.step()\n",
        "                epoch_loss += loss.item()\n",
        "\n",
        "            avg_train_loss = epoch_loss / len(train_loader)\n",
        "            wandb.log({\"Training Loss\": avg_train_loss})\n",
        "\n",
        "            # Validation\n",
        "            model.eval()\n",
        "            val_loss = 0\n",
        "            with torch.no_grad():\n",
        "                for data, target in val_loader:\n",
        "                    output = model(data)\n",
        "                    loss = criterion(output, target)\n",
        "                    val_loss += loss.item()\n",
        "\n",
        "            avg_val_loss = val_loss / len(val_loader)\n",
        "            wandb.log({\"Validation Loss\": avg_val_loss})\n",
        "\n",
        "            if epoch % 5 == 0:\n",
        "                print(f\"Epoch {epoch}: Training Loss = {avg_train_loss:.4f}, Validation Loss = {avg_val_loss:.4f}\")\n",
        "\n",
        "# Define WandB Sweep Configuration\n",
        "sweep_config = {\n",
        "    \"method\": \"bayes\",  # Bayesian optimization for efficient search\n",
        "    \"metric\": {\"name\": \"Validation Loss\", \"goal\": \"minimize\"},\n",
        "    \"parameters\": {\n",
        "        \"epochs\": {\"values\": [5]},  # Reduced epochs for quicker experiments\n",
        "        \"hidden_layers\": {\"values\": [2]},  # Reduced hidden layers for faster computation\n",
        "        \"layer_size\": {\"values\": [32]},  # Reduced layer size for faster computation\n",
        "        \"weight_decay\": {\"values\": [0.0005]},\n",
        "        \"learning_rate\": {\"values\": [1e-3]},\n",
        "        \"optimizer\": {\"values\": [\"SGD\"]},\n",
        "        \"batch_size\": {\"values\": [16]},  # Reduced batch size for faster training\n",
        "        \"weight_init\": {\"values\": [\"Xavier\"]},\n",
        "        \"activation\": {\"values\": [\"ReLU\"]}\n",
        "    }\n",
        "}\n",
        "\n",
        "# Initialize the sweep\n",
        "sweep_id = wandb.sweep(sweep_config, project=\"fashion-mnist-sweep\")\n",
        "\n",
        "# Run the sweep agent\n",
        "wandb.agent(sweep_id, function=train_network, count=5)"
      ],
      "metadata": {
        "colab": {
          "base_uri": "https://localhost:8080/",
          "height": 1000
        },
        "id": "VvcsDTFkNGOg",
        "outputId": "4ad21062-e6ba-4676-a341-0c8aad6d202d"
      },
      "execution_count": null,
      "outputs": [
        {
          "output_type": "stream",
          "name": "stdout",
          "text": [
            "Create sweep with ID: m4kbncpc\n",
            "Sweep URL: https://wandb.ai/24mcs115-national-institute-of-technology-hamirpur/fashion-mnist-sweep/sweeps/m4kbncpc\n"
          ]
        },
        {
          "output_type": "stream",
          "name": "stderr",
          "text": [
            "\u001b[34m\u001b[1mwandb\u001b[0m: Agent Starting Run: 2f9daitg with config:\n",
            "\u001b[34m\u001b[1mwandb\u001b[0m: \tactivation: ReLU\n",
            "\u001b[34m\u001b[1mwandb\u001b[0m: \tbatch_size: 16\n",
            "\u001b[34m\u001b[1mwandb\u001b[0m: \tepochs: 5\n",
            "\u001b[34m\u001b[1mwandb\u001b[0m: \thidden_layers: 2\n",
            "\u001b[34m\u001b[1mwandb\u001b[0m: \tlayer_size: 32\n",
            "\u001b[34m\u001b[1mwandb\u001b[0m: \tlearning_rate: 0.001\n",
            "\u001b[34m\u001b[1mwandb\u001b[0m: \toptimizer: SGD\n",
            "\u001b[34m\u001b[1mwandb\u001b[0m: \tweight_decay: 0.0005\n",
            "\u001b[34m\u001b[1mwandb\u001b[0m: \tweight_init: Xavier\n"
          ]
        },
        {
          "output_type": "display_data",
          "data": {
            "text/plain": [
              "<IPython.core.display.HTML object>"
            ],
            "text/html": [
              "Tracking run with wandb version 0.19.7"
            ]
          },
          "metadata": {}
        },
        {
          "output_type": "display_data",
          "data": {
            "text/plain": [
              "<IPython.core.display.HTML object>"
            ],
            "text/html": [
              "Run data is saved locally in <code>/content/wandb/run-20250302_045726-2f9daitg</code>"
            ]
          },
          "metadata": {}
        },
        {
          "output_type": "display_data",
          "data": {
            "text/plain": [
              "<IPython.core.display.HTML object>"
            ],
            "text/html": [
              "Syncing run <strong><a href='https://wandb.ai/24mcs115-national-institute-of-technology-hamirpur/fashion-mnist-sweep/runs/2f9daitg' target=\"_blank\">drawn-sweep-1</a></strong> to <a href='https://wandb.ai/24mcs115-national-institute-of-technology-hamirpur/fashion-mnist-sweep' target=\"_blank\">Weights & Biases</a> (<a href='https://wandb.me/developer-guide' target=\"_blank\">docs</a>)<br>Sweep page: <a href='https://wandb.ai/24mcs115-national-institute-of-technology-hamirpur/fashion-mnist-sweep/sweeps/m4kbncpc' target=\"_blank\">https://wandb.ai/24mcs115-national-institute-of-technology-hamirpur/fashion-mnist-sweep/sweeps/m4kbncpc</a>"
            ]
          },
          "metadata": {}
        },
        {
          "output_type": "display_data",
          "data": {
            "text/plain": [
              "<IPython.core.display.HTML object>"
            ],
            "text/html": [
              " View project at <a href='https://wandb.ai/24mcs115-national-institute-of-technology-hamirpur/fashion-mnist-sweep' target=\"_blank\">https://wandb.ai/24mcs115-national-institute-of-technology-hamirpur/fashion-mnist-sweep</a>"
            ]
          },
          "metadata": {}
        },
        {
          "output_type": "display_data",
          "data": {
            "text/plain": [
              "<IPython.core.display.HTML object>"
            ],
            "text/html": [
              " View sweep at <a href='https://wandb.ai/24mcs115-national-institute-of-technology-hamirpur/fashion-mnist-sweep/sweeps/m4kbncpc' target=\"_blank\">https://wandb.ai/24mcs115-national-institute-of-technology-hamirpur/fashion-mnist-sweep/sweeps/m4kbncpc</a>"
            ]
          },
          "metadata": {}
        },
        {
          "output_type": "display_data",
          "data": {
            "text/plain": [
              "<IPython.core.display.HTML object>"
            ],
            "text/html": [
              " View run at <a href='https://wandb.ai/24mcs115-national-institute-of-technology-hamirpur/fashion-mnist-sweep/runs/2f9daitg' target=\"_blank\">https://wandb.ai/24mcs115-national-institute-of-technology-hamirpur/fashion-mnist-sweep/runs/2f9daitg</a>"
            ]
          },
          "metadata": {}
        },
        {
          "output_type": "stream",
          "name": "stdout",
          "text": [
            "Downloading data from https://storage.googleapis.com/tensorflow/tf-keras-datasets/train-labels-idx1-ubyte.gz\n",
            "\u001b[1m29515/29515\u001b[0m \u001b[32m━━━━━━━━━━━━━━━━━━━━\u001b[0m\u001b[37m\u001b[0m \u001b[1m0s\u001b[0m 0us/step\n",
            "Downloading data from https://storage.googleapis.com/tensorflow/tf-keras-datasets/train-images-idx3-ubyte.gz\n",
            "\u001b[1m26421880/26421880\u001b[0m \u001b[32m━━━━━━━━━━━━━━━━━━━━\u001b[0m\u001b[37m\u001b[0m \u001b[1m2s\u001b[0m 0us/step\n",
            "Downloading data from https://storage.googleapis.com/tensorflow/tf-keras-datasets/t10k-labels-idx1-ubyte.gz\n",
            "\u001b[1m5148/5148\u001b[0m \u001b[32m━━━━━━━━━━━━━━━━━━━━\u001b[0m\u001b[37m\u001b[0m \u001b[1m0s\u001b[0m 0us/step\n",
            "Downloading data from https://storage.googleapis.com/tensorflow/tf-keras-datasets/t10k-images-idx3-ubyte.gz\n",
            "\u001b[1m4422102/4422102\u001b[0m \u001b[32m━━━━━━━━━━━━━━━━━━━━\u001b[0m\u001b[37m\u001b[0m \u001b[1m1s\u001b[0m 0us/step\n",
            "Epoch 0: Training Loss = 2.3603, Validation Loss = 2.3168\n"
          ]
        },
        {
          "output_type": "display_data",
          "data": {
            "text/plain": [
              "<IPython.core.display.HTML object>"
            ],
            "text/html": []
          },
          "metadata": {}
        },
        {
          "output_type": "display_data",
          "data": {
            "text/plain": [
              "<IPython.core.display.HTML object>"
            ],
            "text/html": [
              "<br>    <style><br>        .wandb-row {<br>            display: flex;<br>            flex-direction: row;<br>            flex-wrap: wrap;<br>            justify-content: flex-start;<br>            width: 100%;<br>        }<br>        .wandb-col {<br>            display: flex;<br>            flex-direction: column;<br>            flex-basis: 100%;<br>            flex: 1;<br>            padding: 10px;<br>        }<br>    </style><br><div class=\"wandb-row\"><div class=\"wandb-col\"><h3>Run history:</h3><br/><table class=\"wandb\"><tr><td>Training Loss</td><td>█▁▇▆▆</td></tr><tr><td>Validation Loss</td><td>▇█▅▁▂</td></tr></table><br/></div><div class=\"wandb-col\"><h3>Run summary:</h3><br/><table class=\"wandb\"><tr><td>Training Loss</td><td>2.32674</td></tr><tr><td>Validation Loss</td><td>2.31207</td></tr></table><br/></div></div>"
            ]
          },
          "metadata": {}
        },
        {
          "output_type": "display_data",
          "data": {
            "text/plain": [
              "<IPython.core.display.HTML object>"
            ],
            "text/html": [
              " View run <strong style=\"color:#cdcd00\">drawn-sweep-1</strong> at: <a href='https://wandb.ai/24mcs115-national-institute-of-technology-hamirpur/fashion-mnist-sweep/runs/2f9daitg' target=\"_blank\">https://wandb.ai/24mcs115-national-institute-of-technology-hamirpur/fashion-mnist-sweep/runs/2f9daitg</a><br> View project at: <a href='https://wandb.ai/24mcs115-national-institute-of-technology-hamirpur/fashion-mnist-sweep' target=\"_blank\">https://wandb.ai/24mcs115-national-institute-of-technology-hamirpur/fashion-mnist-sweep</a><br>Synced 5 W&B file(s), 0 media file(s), 0 artifact file(s) and 0 other file(s)"
            ]
          },
          "metadata": {}
        },
        {
          "output_type": "display_data",
          "data": {
            "text/plain": [
              "<IPython.core.display.HTML object>"
            ],
            "text/html": [
              "Find logs at: <code>./wandb/run-20250302_045726-2f9daitg/logs</code>"
            ]
          },
          "metadata": {}
        },
        {
          "output_type": "stream",
          "name": "stderr",
          "text": [
            "\u001b[34m\u001b[1mwandb\u001b[0m: Agent Starting Run: 8ug4n0cg with config:\n",
            "\u001b[34m\u001b[1mwandb\u001b[0m: \tactivation: ReLU\n",
            "\u001b[34m\u001b[1mwandb\u001b[0m: \tbatch_size: 16\n",
            "\u001b[34m\u001b[1mwandb\u001b[0m: \tepochs: 5\n",
            "\u001b[34m\u001b[1mwandb\u001b[0m: \thidden_layers: 2\n",
            "\u001b[34m\u001b[1mwandb\u001b[0m: \tlayer_size: 32\n",
            "\u001b[34m\u001b[1mwandb\u001b[0m: \tlearning_rate: 0.001\n",
            "\u001b[34m\u001b[1mwandb\u001b[0m: \toptimizer: SGD\n",
            "\u001b[34m\u001b[1mwandb\u001b[0m: \tweight_decay: 0.0005\n",
            "\u001b[34m\u001b[1mwandb\u001b[0m: \tweight_init: Xavier\n"
          ]
        },
        {
          "output_type": "display_data",
          "data": {
            "text/plain": [
              "<IPython.core.display.HTML object>"
            ],
            "text/html": [
              "Tracking run with wandb version 0.19.7"
            ]
          },
          "metadata": {}
        },
        {
          "output_type": "display_data",
          "data": {
            "text/plain": [
              "<IPython.core.display.HTML object>"
            ],
            "text/html": [
              "Run data is saved locally in <code>/content/wandb/run-20250302_045746-8ug4n0cg</code>"
            ]
          },
          "metadata": {}
        },
        {
          "output_type": "display_data",
          "data": {
            "text/plain": [
              "<IPython.core.display.HTML object>"
            ],
            "text/html": [
              "Syncing run <strong><a href='https://wandb.ai/24mcs115-national-institute-of-technology-hamirpur/fashion-mnist-sweep/runs/8ug4n0cg' target=\"_blank\">faithful-sweep-2</a></strong> to <a href='https://wandb.ai/24mcs115-national-institute-of-technology-hamirpur/fashion-mnist-sweep' target=\"_blank\">Weights & Biases</a> (<a href='https://wandb.me/developer-guide' target=\"_blank\">docs</a>)<br>Sweep page: <a href='https://wandb.ai/24mcs115-national-institute-of-technology-hamirpur/fashion-mnist-sweep/sweeps/m4kbncpc' target=\"_blank\">https://wandb.ai/24mcs115-national-institute-of-technology-hamirpur/fashion-mnist-sweep/sweeps/m4kbncpc</a>"
            ]
          },
          "metadata": {}
        },
        {
          "output_type": "display_data",
          "data": {
            "text/plain": [
              "<IPython.core.display.HTML object>"
            ],
            "text/html": [
              " View project at <a href='https://wandb.ai/24mcs115-national-institute-of-technology-hamirpur/fashion-mnist-sweep' target=\"_blank\">https://wandb.ai/24mcs115-national-institute-of-technology-hamirpur/fashion-mnist-sweep</a>"
            ]
          },
          "metadata": {}
        },
        {
          "output_type": "display_data",
          "data": {
            "text/plain": [
              "<IPython.core.display.HTML object>"
            ],
            "text/html": [
              " View sweep at <a href='https://wandb.ai/24mcs115-national-institute-of-technology-hamirpur/fashion-mnist-sweep/sweeps/m4kbncpc' target=\"_blank\">https://wandb.ai/24mcs115-national-institute-of-technology-hamirpur/fashion-mnist-sweep/sweeps/m4kbncpc</a>"
            ]
          },
          "metadata": {}
        },
        {
          "output_type": "display_data",
          "data": {
            "text/plain": [
              "<IPython.core.display.HTML object>"
            ],
            "text/html": [
              " View run at <a href='https://wandb.ai/24mcs115-national-institute-of-technology-hamirpur/fashion-mnist-sweep/runs/8ug4n0cg' target=\"_blank\">https://wandb.ai/24mcs115-national-institute-of-technology-hamirpur/fashion-mnist-sweep/runs/8ug4n0cg</a>"
            ]
          },
          "metadata": {}
        },
        {
          "output_type": "stream",
          "name": "stdout",
          "text": [
            "Epoch 0: Training Loss = 2.2679, Validation Loss = 2.4587\n"
          ]
        },
        {
          "output_type": "display_data",
          "data": {
            "text/plain": [
              "<IPython.core.display.HTML object>"
            ],
            "text/html": []
          },
          "metadata": {}
        },
        {
          "output_type": "display_data",
          "data": {
            "text/plain": [
              "<IPython.core.display.HTML object>"
            ],
            "text/html": [
              "<br>    <style><br>        .wandb-row {<br>            display: flex;<br>            flex-direction: row;<br>            flex-wrap: wrap;<br>            justify-content: flex-start;<br>            width: 100%;<br>        }<br>        .wandb-col {<br>            display: flex;<br>            flex-direction: column;<br>            flex-basis: 100%;<br>            flex: 1;<br>            padding: 10px;<br>        }<br>    </style><br><div class=\"wandb-row\"><div class=\"wandb-col\"><h3>Run history:</h3><br/><table class=\"wandb\"><tr><td>Training Loss</td><td>▆▇█▆▁</td></tr><tr><td>Validation Loss</td><td>▁▂▄▆█</td></tr></table><br/></div><div class=\"wandb-col\"><h3>Run summary:</h3><br/><table class=\"wandb\"><tr><td>Training Loss</td><td>2.20085</td></tr><tr><td>Validation Loss</td><td>2.46917</td></tr></table><br/></div></div>"
            ]
          },
          "metadata": {}
        },
        {
          "output_type": "display_data",
          "data": {
            "text/plain": [
              "<IPython.core.display.HTML object>"
            ],
            "text/html": [
              " View run <strong style=\"color:#cdcd00\">faithful-sweep-2</strong> at: <a href='https://wandb.ai/24mcs115-national-institute-of-technology-hamirpur/fashion-mnist-sweep/runs/8ug4n0cg' target=\"_blank\">https://wandb.ai/24mcs115-national-institute-of-technology-hamirpur/fashion-mnist-sweep/runs/8ug4n0cg</a><br> View project at: <a href='https://wandb.ai/24mcs115-national-institute-of-technology-hamirpur/fashion-mnist-sweep' target=\"_blank\">https://wandb.ai/24mcs115-national-institute-of-technology-hamirpur/fashion-mnist-sweep</a><br>Synced 5 W&B file(s), 0 media file(s), 0 artifact file(s) and 0 other file(s)"
            ]
          },
          "metadata": {}
        },
        {
          "output_type": "display_data",
          "data": {
            "text/plain": [
              "<IPython.core.display.HTML object>"
            ],
            "text/html": [
              "Find logs at: <code>./wandb/run-20250302_045746-8ug4n0cg/logs</code>"
            ]
          },
          "metadata": {}
        },
        {
          "output_type": "stream",
          "name": "stderr",
          "text": [
            "\u001b[34m\u001b[1mwandb\u001b[0m: Sweep Agent: Waiting for job.\n",
            "\u001b[34m\u001b[1mwandb\u001b[0m: Job received.\n",
            "\u001b[34m\u001b[1mwandb\u001b[0m: Agent Starting Run: 3pnaztyr with config:\n",
            "\u001b[34m\u001b[1mwandb\u001b[0m: \tactivation: ReLU\n",
            "\u001b[34m\u001b[1mwandb\u001b[0m: \tbatch_size: 16\n",
            "\u001b[34m\u001b[1mwandb\u001b[0m: \tepochs: 5\n",
            "\u001b[34m\u001b[1mwandb\u001b[0m: \thidden_layers: 2\n",
            "\u001b[34m\u001b[1mwandb\u001b[0m: \tlayer_size: 32\n",
            "\u001b[34m\u001b[1mwandb\u001b[0m: \tlearning_rate: 0.001\n",
            "\u001b[34m\u001b[1mwandb\u001b[0m: \toptimizer: SGD\n",
            "\u001b[34m\u001b[1mwandb\u001b[0m: \tweight_decay: 0.0005\n",
            "\u001b[34m\u001b[1mwandb\u001b[0m: \tweight_init: Xavier\n"
          ]
        },
        {
          "output_type": "display_data",
          "data": {
            "text/plain": [
              "<IPython.core.display.HTML object>"
            ],
            "text/html": [
              "Tracking run with wandb version 0.19.7"
            ]
          },
          "metadata": {}
        },
        {
          "output_type": "display_data",
          "data": {
            "text/plain": [
              "<IPython.core.display.HTML object>"
            ],
            "text/html": [
              "Run data is saved locally in <code>/content/wandb/run-20250302_045802-3pnaztyr</code>"
            ]
          },
          "metadata": {}
        },
        {
          "output_type": "display_data",
          "data": {
            "text/plain": [
              "<IPython.core.display.HTML object>"
            ],
            "text/html": [
              "Syncing run <strong><a href='https://wandb.ai/24mcs115-national-institute-of-technology-hamirpur/fashion-mnist-sweep/runs/3pnaztyr' target=\"_blank\">stellar-sweep-3</a></strong> to <a href='https://wandb.ai/24mcs115-national-institute-of-technology-hamirpur/fashion-mnist-sweep' target=\"_blank\">Weights & Biases</a> (<a href='https://wandb.me/developer-guide' target=\"_blank\">docs</a>)<br>Sweep page: <a href='https://wandb.ai/24mcs115-national-institute-of-technology-hamirpur/fashion-mnist-sweep/sweeps/m4kbncpc' target=\"_blank\">https://wandb.ai/24mcs115-national-institute-of-technology-hamirpur/fashion-mnist-sweep/sweeps/m4kbncpc</a>"
            ]
          },
          "metadata": {}
        },
        {
          "output_type": "display_data",
          "data": {
            "text/plain": [
              "<IPython.core.display.HTML object>"
            ],
            "text/html": [
              " View project at <a href='https://wandb.ai/24mcs115-national-institute-of-technology-hamirpur/fashion-mnist-sweep' target=\"_blank\">https://wandb.ai/24mcs115-national-institute-of-technology-hamirpur/fashion-mnist-sweep</a>"
            ]
          },
          "metadata": {}
        },
        {
          "output_type": "display_data",
          "data": {
            "text/plain": [
              "<IPython.core.display.HTML object>"
            ],
            "text/html": [
              " View sweep at <a href='https://wandb.ai/24mcs115-national-institute-of-technology-hamirpur/fashion-mnist-sweep/sweeps/m4kbncpc' target=\"_blank\">https://wandb.ai/24mcs115-national-institute-of-technology-hamirpur/fashion-mnist-sweep/sweeps/m4kbncpc</a>"
            ]
          },
          "metadata": {}
        },
        {
          "output_type": "display_data",
          "data": {
            "text/plain": [
              "<IPython.core.display.HTML object>"
            ],
            "text/html": [
              " View run at <a href='https://wandb.ai/24mcs115-national-institute-of-technology-hamirpur/fashion-mnist-sweep/runs/3pnaztyr' target=\"_blank\">https://wandb.ai/24mcs115-national-institute-of-technology-hamirpur/fashion-mnist-sweep/runs/3pnaztyr</a>"
            ]
          },
          "metadata": {}
        },
        {
          "output_type": "stream",
          "name": "stdout",
          "text": [
            "Epoch 0: Training Loss = 2.3453, Validation Loss = 2.1725\n"
          ]
        },
        {
          "output_type": "display_data",
          "data": {
            "text/plain": [
              "<IPython.core.display.HTML object>"
            ],
            "text/html": []
          },
          "metadata": {}
        },
        {
          "output_type": "display_data",
          "data": {
            "text/plain": [
              "<IPython.core.display.HTML object>"
            ],
            "text/html": [
              "<br>    <style><br>        .wandb-row {<br>            display: flex;<br>            flex-direction: row;<br>            flex-wrap: wrap;<br>            justify-content: flex-start;<br>            width: 100%;<br>        }<br>        .wandb-col {<br>            display: flex;<br>            flex-direction: column;<br>            flex-basis: 100%;<br>            flex: 1;<br>            padding: 10px;<br>        }<br>    </style><br><div class=\"wandb-row\"><div class=\"wandb-col\"><h3>Run history:</h3><br/><table class=\"wandb\"><tr><td>Training Loss</td><td>▆▅▁▅█</td></tr><tr><td>Validation Loss</td><td>▁▃▅▆█</td></tr></table><br/></div><div class=\"wandb-col\"><h3>Run summary:</h3><br/><table class=\"wandb\"><tr><td>Training Loss</td><td>2.36233</td></tr><tr><td>Validation Loss</td><td>2.18604</td></tr></table><br/></div></div>"
            ]
          },
          "metadata": {}
        },
        {
          "output_type": "display_data",
          "data": {
            "text/plain": [
              "<IPython.core.display.HTML object>"
            ],
            "text/html": [
              " View run <strong style=\"color:#cdcd00\">stellar-sweep-3</strong> at: <a href='https://wandb.ai/24mcs115-national-institute-of-technology-hamirpur/fashion-mnist-sweep/runs/3pnaztyr' target=\"_blank\">https://wandb.ai/24mcs115-national-institute-of-technology-hamirpur/fashion-mnist-sweep/runs/3pnaztyr</a><br> View project at: <a href='https://wandb.ai/24mcs115-national-institute-of-technology-hamirpur/fashion-mnist-sweep' target=\"_blank\">https://wandb.ai/24mcs115-national-institute-of-technology-hamirpur/fashion-mnist-sweep</a><br>Synced 5 W&B file(s), 0 media file(s), 0 artifact file(s) and 0 other file(s)"
            ]
          },
          "metadata": {}
        },
        {
          "output_type": "display_data",
          "data": {
            "text/plain": [
              "<IPython.core.display.HTML object>"
            ],
            "text/html": [
              "Find logs at: <code>./wandb/run-20250302_045802-3pnaztyr/logs</code>"
            ]
          },
          "metadata": {}
        },
        {
          "output_type": "stream",
          "name": "stderr",
          "text": [
            "\u001b[34m\u001b[1mwandb\u001b[0m: Sweep Agent: Waiting for job.\n",
            "\u001b[34m\u001b[1mwandb\u001b[0m: Job received.\n",
            "\u001b[34m\u001b[1mwandb\u001b[0m: Agent Starting Run: v2vhiksm with config:\n",
            "\u001b[34m\u001b[1mwandb\u001b[0m: \tactivation: ReLU\n",
            "\u001b[34m\u001b[1mwandb\u001b[0m: \tbatch_size: 16\n",
            "\u001b[34m\u001b[1mwandb\u001b[0m: \tepochs: 5\n",
            "\u001b[34m\u001b[1mwandb\u001b[0m: \thidden_layers: 2\n",
            "\u001b[34m\u001b[1mwandb\u001b[0m: \tlayer_size: 32\n",
            "\u001b[34m\u001b[1mwandb\u001b[0m: \tlearning_rate: 0.001\n",
            "\u001b[34m\u001b[1mwandb\u001b[0m: \toptimizer: SGD\n",
            "\u001b[34m\u001b[1mwandb\u001b[0m: \tweight_decay: 0.0005\n",
            "\u001b[34m\u001b[1mwandb\u001b[0m: \tweight_init: Xavier\n"
          ]
        },
        {
          "output_type": "display_data",
          "data": {
            "text/plain": [
              "<IPython.core.display.HTML object>"
            ],
            "text/html": [
              "Tracking run with wandb version 0.19.7"
            ]
          },
          "metadata": {}
        },
        {
          "output_type": "display_data",
          "data": {
            "text/plain": [
              "<IPython.core.display.HTML object>"
            ],
            "text/html": [
              "Run data is saved locally in <code>/content/wandb/run-20250302_045818-v2vhiksm</code>"
            ]
          },
          "metadata": {}
        },
        {
          "output_type": "display_data",
          "data": {
            "text/plain": [
              "<IPython.core.display.HTML object>"
            ],
            "text/html": [
              "Syncing run <strong><a href='https://wandb.ai/24mcs115-national-institute-of-technology-hamirpur/fashion-mnist-sweep/runs/v2vhiksm' target=\"_blank\">good-sweep-4</a></strong> to <a href='https://wandb.ai/24mcs115-national-institute-of-technology-hamirpur/fashion-mnist-sweep' target=\"_blank\">Weights & Biases</a> (<a href='https://wandb.me/developer-guide' target=\"_blank\">docs</a>)<br>Sweep page: <a href='https://wandb.ai/24mcs115-national-institute-of-technology-hamirpur/fashion-mnist-sweep/sweeps/m4kbncpc' target=\"_blank\">https://wandb.ai/24mcs115-national-institute-of-technology-hamirpur/fashion-mnist-sweep/sweeps/m4kbncpc</a>"
            ]
          },
          "metadata": {}
        },
        {
          "output_type": "display_data",
          "data": {
            "text/plain": [
              "<IPython.core.display.HTML object>"
            ],
            "text/html": [
              " View project at <a href='https://wandb.ai/24mcs115-national-institute-of-technology-hamirpur/fashion-mnist-sweep' target=\"_blank\">https://wandb.ai/24mcs115-national-institute-of-technology-hamirpur/fashion-mnist-sweep</a>"
            ]
          },
          "metadata": {}
        },
        {
          "output_type": "display_data",
          "data": {
            "text/plain": [
              "<IPython.core.display.HTML object>"
            ],
            "text/html": [
              " View sweep at <a href='https://wandb.ai/24mcs115-national-institute-of-technology-hamirpur/fashion-mnist-sweep/sweeps/m4kbncpc' target=\"_blank\">https://wandb.ai/24mcs115-national-institute-of-technology-hamirpur/fashion-mnist-sweep/sweeps/m4kbncpc</a>"
            ]
          },
          "metadata": {}
        },
        {
          "output_type": "display_data",
          "data": {
            "text/plain": [
              "<IPython.core.display.HTML object>"
            ],
            "text/html": [
              " View run at <a href='https://wandb.ai/24mcs115-national-institute-of-technology-hamirpur/fashion-mnist-sweep/runs/v2vhiksm' target=\"_blank\">https://wandb.ai/24mcs115-national-institute-of-technology-hamirpur/fashion-mnist-sweep/runs/v2vhiksm</a>"
            ]
          },
          "metadata": {}
        },
        {
          "output_type": "stream",
          "name": "stdout",
          "text": [
            "Epoch 0: Training Loss = 2.3711, Validation Loss = 2.4960\n"
          ]
        },
        {
          "output_type": "display_data",
          "data": {
            "text/plain": [
              "<IPython.core.display.HTML object>"
            ],
            "text/html": []
          },
          "metadata": {}
        },
        {
          "output_type": "display_data",
          "data": {
            "text/plain": [
              "<IPython.core.display.HTML object>"
            ],
            "text/html": [
              "<br>    <style><br>        .wandb-row {<br>            display: flex;<br>            flex-direction: row;<br>            flex-wrap: wrap;<br>            justify-content: flex-start;<br>            width: 100%;<br>        }<br>        .wandb-col {<br>            display: flex;<br>            flex-direction: column;<br>            flex-basis: 100%;<br>            flex: 1;<br>            padding: 10px;<br>        }<br>    </style><br><div class=\"wandb-row\"><div class=\"wandb-col\"><h3>Run history:</h3><br/><table class=\"wandb\"><tr><td>Training Loss</td><td>▄▂█▇▁</td></tr><tr><td>Validation Loss</td><td>██▃▂▁</td></tr></table><br/></div><div class=\"wandb-col\"><h3>Run summary:</h3><br/><table class=\"wandb\"><tr><td>Training Loss</td><td>2.31354</td></tr><tr><td>Validation Loss</td><td>2.48611</td></tr></table><br/></div></div>"
            ]
          },
          "metadata": {}
        },
        {
          "output_type": "display_data",
          "data": {
            "text/plain": [
              "<IPython.core.display.HTML object>"
            ],
            "text/html": [
              " View run <strong style=\"color:#cdcd00\">good-sweep-4</strong> at: <a href='https://wandb.ai/24mcs115-national-institute-of-technology-hamirpur/fashion-mnist-sweep/runs/v2vhiksm' target=\"_blank\">https://wandb.ai/24mcs115-national-institute-of-technology-hamirpur/fashion-mnist-sweep/runs/v2vhiksm</a><br> View project at: <a href='https://wandb.ai/24mcs115-national-institute-of-technology-hamirpur/fashion-mnist-sweep' target=\"_blank\">https://wandb.ai/24mcs115-national-institute-of-technology-hamirpur/fashion-mnist-sweep</a><br>Synced 5 W&B file(s), 0 media file(s), 0 artifact file(s) and 0 other file(s)"
            ]
          },
          "metadata": {}
        },
        {
          "output_type": "display_data",
          "data": {
            "text/plain": [
              "<IPython.core.display.HTML object>"
            ],
            "text/html": [
              "Find logs at: <code>./wandb/run-20250302_045818-v2vhiksm/logs</code>"
            ]
          },
          "metadata": {}
        },
        {
          "output_type": "stream",
          "name": "stderr",
          "text": [
            "\u001b[34m\u001b[1mwandb\u001b[0m: Sweep Agent: Waiting for job.\n",
            "\u001b[34m\u001b[1mwandb\u001b[0m: Job received.\n",
            "\u001b[34m\u001b[1mwandb\u001b[0m: Agent Starting Run: s9a3lag5 with config:\n",
            "\u001b[34m\u001b[1mwandb\u001b[0m: \tactivation: ReLU\n",
            "\u001b[34m\u001b[1mwandb\u001b[0m: \tbatch_size: 16\n",
            "\u001b[34m\u001b[1mwandb\u001b[0m: \tepochs: 5\n",
            "\u001b[34m\u001b[1mwandb\u001b[0m: \thidden_layers: 2\n",
            "\u001b[34m\u001b[1mwandb\u001b[0m: \tlayer_size: 32\n",
            "\u001b[34m\u001b[1mwandb\u001b[0m: \tlearning_rate: 0.001\n",
            "\u001b[34m\u001b[1mwandb\u001b[0m: \toptimizer: SGD\n",
            "\u001b[34m\u001b[1mwandb\u001b[0m: \tweight_decay: 0.0005\n",
            "\u001b[34m\u001b[1mwandb\u001b[0m: \tweight_init: Xavier\n"
          ]
        },
        {
          "output_type": "display_data",
          "data": {
            "text/plain": [
              "<IPython.core.display.HTML object>"
            ],
            "text/html": [
              "Tracking run with wandb version 0.19.7"
            ]
          },
          "metadata": {}
        },
        {
          "output_type": "display_data",
          "data": {
            "text/plain": [
              "<IPython.core.display.HTML object>"
            ],
            "text/html": [
              "Run data is saved locally in <code>/content/wandb/run-20250302_045833-s9a3lag5</code>"
            ]
          },
          "metadata": {}
        },
        {
          "output_type": "display_data",
          "data": {
            "text/plain": [
              "<IPython.core.display.HTML object>"
            ],
            "text/html": [
              "Syncing run <strong><a href='https://wandb.ai/24mcs115-national-institute-of-technology-hamirpur/fashion-mnist-sweep/runs/s9a3lag5' target=\"_blank\">fancy-sweep-5</a></strong> to <a href='https://wandb.ai/24mcs115-national-institute-of-technology-hamirpur/fashion-mnist-sweep' target=\"_blank\">Weights & Biases</a> (<a href='https://wandb.me/developer-guide' target=\"_blank\">docs</a>)<br>Sweep page: <a href='https://wandb.ai/24mcs115-national-institute-of-technology-hamirpur/fashion-mnist-sweep/sweeps/m4kbncpc' target=\"_blank\">https://wandb.ai/24mcs115-national-institute-of-technology-hamirpur/fashion-mnist-sweep/sweeps/m4kbncpc</a>"
            ]
          },
          "metadata": {}
        },
        {
          "output_type": "display_data",
          "data": {
            "text/plain": [
              "<IPython.core.display.HTML object>"
            ],
            "text/html": [
              " View project at <a href='https://wandb.ai/24mcs115-national-institute-of-technology-hamirpur/fashion-mnist-sweep' target=\"_blank\">https://wandb.ai/24mcs115-national-institute-of-technology-hamirpur/fashion-mnist-sweep</a>"
            ]
          },
          "metadata": {}
        },
        {
          "output_type": "display_data",
          "data": {
            "text/plain": [
              "<IPython.core.display.HTML object>"
            ],
            "text/html": [
              " View sweep at <a href='https://wandb.ai/24mcs115-national-institute-of-technology-hamirpur/fashion-mnist-sweep/sweeps/m4kbncpc' target=\"_blank\">https://wandb.ai/24mcs115-national-institute-of-technology-hamirpur/fashion-mnist-sweep/sweeps/m4kbncpc</a>"
            ]
          },
          "metadata": {}
        },
        {
          "output_type": "display_data",
          "data": {
            "text/plain": [
              "<IPython.core.display.HTML object>"
            ],
            "text/html": [
              " View run at <a href='https://wandb.ai/24mcs115-national-institute-of-technology-hamirpur/fashion-mnist-sweep/runs/s9a3lag5' target=\"_blank\">https://wandb.ai/24mcs115-national-institute-of-technology-hamirpur/fashion-mnist-sweep/runs/s9a3lag5</a>"
            ]
          },
          "metadata": {}
        },
        {
          "output_type": "stream",
          "name": "stdout",
          "text": [
            "Epoch 0: Training Loss = 2.2488, Validation Loss = 2.3674\n"
          ]
        },
        {
          "output_type": "display_data",
          "data": {
            "text/plain": [
              "<IPython.core.display.HTML object>"
            ],
            "text/html": []
          },
          "metadata": {}
        },
        {
          "output_type": "display_data",
          "data": {
            "text/plain": [
              "<IPython.core.display.HTML object>"
            ],
            "text/html": [
              "<br>    <style><br>        .wandb-row {<br>            display: flex;<br>            flex-direction: row;<br>            flex-wrap: wrap;<br>            justify-content: flex-start;<br>            width: 100%;<br>        }<br>        .wandb-col {<br>            display: flex;<br>            flex-direction: column;<br>            flex-basis: 100%;<br>            flex: 1;<br>            padding: 10px;<br>        }<br>    </style><br><div class=\"wandb-row\"><div class=\"wandb-col\"><h3>Run history:</h3><br/><table class=\"wandb\"><tr><td>Training Loss</td><td>▄█▃▅▁</td></tr><tr><td>Validation Loss</td><td>▆▁▄▄█</td></tr></table><br/></div><div class=\"wandb-col\"><h3>Run summary:</h3><br/><table class=\"wandb\"><tr><td>Training Loss</td><td>2.16432</td></tr><tr><td>Validation Loss</td><td>2.36886</td></tr></table><br/></div></div>"
            ]
          },
          "metadata": {}
        },
        {
          "output_type": "display_data",
          "data": {
            "text/plain": [
              "<IPython.core.display.HTML object>"
            ],
            "text/html": [
              " View run <strong style=\"color:#cdcd00\">fancy-sweep-5</strong> at: <a href='https://wandb.ai/24mcs115-national-institute-of-technology-hamirpur/fashion-mnist-sweep/runs/s9a3lag5' target=\"_blank\">https://wandb.ai/24mcs115-national-institute-of-technology-hamirpur/fashion-mnist-sweep/runs/s9a3lag5</a><br> View project at: <a href='https://wandb.ai/24mcs115-national-institute-of-technology-hamirpur/fashion-mnist-sweep' target=\"_blank\">https://wandb.ai/24mcs115-national-institute-of-technology-hamirpur/fashion-mnist-sweep</a><br>Synced 5 W&B file(s), 0 media file(s), 0 artifact file(s) and 0 other file(s)"
            ]
          },
          "metadata": {}
        },
        {
          "output_type": "display_data",
          "data": {
            "text/plain": [
              "<IPython.core.display.HTML object>"
            ],
            "text/html": [
              "Find logs at: <code>./wandb/run-20250302_045833-s9a3lag5/logs</code>"
            ]
          },
          "metadata": {}
        }
      ]
    },
    {
      "cell_type": "code",
      "source": [
        "import numpy as np\n",
        "import torch\n",
        "import torch.nn as nn\n",
        "import torch.optim as optim\n",
        "import wandb\n",
        "import matplotlib.pyplot as plt\n",
        "from tensorflow.keras.datasets import fashion_mnist\n",
        "from sklearn.model_selection import train_test_split\n",
        "\n",
        "# Define a flexible neural network\n",
        "class FashionMNISTModel(nn.Module):\n",
        "    def __init__(self, input_size, hidden_layers, layer_size, output_size, activation, weight_init):\n",
        "        super(FashionMNISTModel, self).__init__()\n",
        "        layers = []\n",
        "        prev_size = input_size\n",
        "\n",
        "        for _ in range(hidden_layers):\n",
        "            layer = nn.Linear(prev_size, layer_size)\n",
        "            if weight_init == 'Xavier':\n",
        "                nn.init.xavier_uniform_(layer.weight)\n",
        "            layers.append(layer)\n",
        "            layers.append(activation())\n",
        "            prev_size = layer_size\n",
        "\n",
        "        layers.append(nn.Linear(prev_size, output_size))\n",
        "        self.model = nn.Sequential(*layers)\n",
        "\n",
        "    def forward(self, x):\n",
        "        return self.model(x)\n",
        "\n",
        "# Training function\n",
        "def train_network(config=None):\n",
        "    with wandb.init(config=config):\n",
        "        config = wandb.config\n",
        "\n",
        "        # Give meaningful run names (e.g., hl_3_bs_16_ac_tanh)\n",
        "        run_name = f\"hl_{config.hidden_layers}_bs_{config.batch_size}_ac_{config.activation}\"\n",
        "        wandb.run.name = run_name\n",
        "\n",
        "        # Load dataset\n",
        "        (X_train, y_train), (X_test, y_test) = fashion_mnist.load_data()\n",
        "        X_train = X_train.reshape(X_train.shape[0], -1) / 255.0\n",
        "        X_test = X_test.reshape(X_test.shape[0], -1) / 255.0\n",
        "\n",
        "        # Select only 20 random samples\n",
        "        random_indices = np.random.choice(len(X_train), 20, replace=False)\n",
        "        X_train, y_train = X_train[random_indices], y_train[random_indices]\n",
        "\n",
        "        # Split into train and validation sets (90% train, 10% validation)\n",
        "        X_train, X_val, y_train, y_val = train_test_split(X_train, y_train, test_size=0.1, random_state=42)\n",
        "\n",
        "        # Convert to PyTorch tensors\n",
        "        tensor_x_train = torch.tensor(X_train, dtype=torch.float32)\n",
        "        tensor_y_train = torch.tensor(y_train, dtype=torch.long)\n",
        "        train_loader = torch.utils.data.DataLoader(torch.utils.data.TensorDataset(tensor_x_train, tensor_y_train),\n",
        "                                                   batch_size=config.batch_size, shuffle=True)\n",
        "\n",
        "        tensor_x_val = torch.tensor(X_val, dtype=torch.float32)\n",
        "        tensor_y_val = torch.tensor(y_val, dtype=torch.long)\n",
        "        val_loader = torch.utils.data.DataLoader(torch.utils.data.TensorDataset(tensor_x_val, tensor_y_val),\n",
        "                                                 batch_size=config.batch_size, shuffle=False)\n",
        "\n",
        "        # Initialize model\n",
        "        activation_fn = {'sigmoid': nn.Sigmoid, 'tanh': nn.Tanh, 'ReLU': nn.ReLU}[config.activation]\n",
        "        model = FashionMNISTModel(X_train.shape[1], config.hidden_layers, config.layer_size, 10,\n",
        "                                  activation=activation_fn, weight_init=config.weight_init)\n",
        "\n",
        "        # Define optimizer\n",
        "        optimizer = getattr(optim, config.optimizer)(model.parameters(), lr=config.learning_rate, weight_decay=config.weight_decay)\n",
        "        criterion = nn.CrossEntropyLoss()\n",
        "\n",
        "        # Tracking loss for visualization\n",
        "        train_losses = []\n",
        "        val_losses = []\n",
        "\n",
        "        # Training loop\n",
        "        for epoch in range(config.epochs):\n",
        "            model.train()\n",
        "            epoch_loss = 0\n",
        "            for data, target in train_loader:\n",
        "                optimizer.zero_grad()\n",
        "                output = model(data)\n",
        "                loss = criterion(output, target)\n",
        "                loss.backward()\n",
        "                optimizer.step()\n",
        "                epoch_loss += loss.item()\n",
        "\n",
        "            avg_train_loss = epoch_loss / len(train_loader)\n",
        "            train_losses.append(avg_train_loss)\n",
        "            wandb.log({\"Training Loss\": avg_train_loss})\n",
        "\n",
        "            # Validation\n",
        "            model.eval()\n",
        "            val_loss = 0\n",
        "            with torch.no_grad():\n",
        "                for data, target in val_loader:\n",
        "                    output = model(data)\n",
        "                    loss = criterion(output, target)\n",
        "                    val_loss += loss.item()\n",
        "\n",
        "            avg_val_loss = val_loss / len(val_loader)\n",
        "            val_losses.append(avg_val_loss)\n",
        "            wandb.log({\"Validation Loss\": avg_val_loss})\n",
        "\n",
        "            if epoch % 5 == 0:\n",
        "                print(f\"Epoch {epoch}: Training Loss = {avg_train_loss:.4f}, Validation Loss = {avg_val_loss:.4f}\")\n",
        "\n",
        "        # Generate and log plots\n",
        "        plt.figure(figsize=(8, 5))\n",
        "        plt.plot(range(config.epochs), train_losses, label=\"Training Loss\")\n",
        "        plt.plot(range(config.epochs), val_losses, label=\"Validation Loss\")\n",
        "        plt.xlabel(\"Epochs\")\n",
        "        plt.ylabel(\"Loss\")\n",
        "        plt.title(f\"Loss Curve: {run_name}\")\n",
        "        plt.legend()\n",
        "        plt.grid()\n",
        "\n",
        "        # Save and log plot to WandB\n",
        "        plt.savefig(f\"{run_name}.png\")\n",
        "        wandb.log({f\"Loss Curve ({run_name})\": wandb.Image(f\"{run_name}.png\")})\n",
        "\n",
        "        # Summary\n",
        "        wandb.summary[\"Final Training Loss\"] = train_losses[-1]\n",
        "        wandb.summary[\"Final Validation Loss\"] = val_losses[-1]\n",
        "\n",
        "# Define WandB Sweep Configuration\n",
        "sweep_config = {\n",
        "    \"method\": \"bayes\",  # Bayesian optimization for efficient search\n",
        "    \"metric\": {\"name\": \"Validation Loss\", \"goal\": \"minimize\"},\n",
        "    \"parameters\": {\n",
        "        \"epochs\": {\"values\": [5]},  # Reduced epochs for quicker experiments\n",
        "        \"hidden_layers\": {\"values\": [2]},  # Reduced hidden layers for faster computation\n",
        "        \"layer_size\": {\"values\": [32]},  # Reduced layer size for faster computation\n",
        "        \"weight_decay\": {\"values\": [0.0005]},\n",
        "        \"learning_rate\": {\"values\": [1e-3]},\n",
        "        \"optimizer\": {\"values\": [\"SGD\"]},\n",
        "        \"batch_size\": {\"values\": [16]},  # Reduced batch size for faster training\n",
        "        \"weight_init\": {\"values\": [\"Xavier\"]},\n",
        "        \"activation\": {\"values\": [\"ReLU\"]}\n",
        "    }\n",
        "}\n",
        "\n",
        "# Initialize the sweep\n",
        "sweep_id = wandb.sweep(sweep_config, project=\"Ex-4-fashion-mnist-sweep\")\n",
        "\n",
        "# Run the sweep agent\n",
        "wandb.agent(sweep_id, function=train_network, count=5)\n"
      ],
      "metadata": {
        "id": "iD_mnoTLPCCd",
        "colab": {
          "base_uri": "https://localhost:8080/",
          "height": 1000
        },
        "outputId": "3c23fa90-ed3f-494f-dd7a-fa7b3bef2a3e"
      },
      "execution_count": 7,
      "outputs": [
        {
          "output_type": "stream",
          "name": "stdout",
          "text": [
            "Create sweep with ID: eicb1d95\n",
            "Sweep URL: https://wandb.ai/24mcs115-national-institute-of-technology-hamirpur/Ex-4-fashion-mnist-sweep/sweeps/eicb1d95\n"
          ]
        },
        {
          "output_type": "stream",
          "name": "stderr",
          "text": [
            "\u001b[34m\u001b[1mwandb\u001b[0m: Agent Starting Run: b8oruiov with config:\n",
            "\u001b[34m\u001b[1mwandb\u001b[0m: \tactivation: ReLU\n",
            "\u001b[34m\u001b[1mwandb\u001b[0m: \tbatch_size: 16\n",
            "\u001b[34m\u001b[1mwandb\u001b[0m: \tepochs: 5\n",
            "\u001b[34m\u001b[1mwandb\u001b[0m: \thidden_layers: 2\n",
            "\u001b[34m\u001b[1mwandb\u001b[0m: \tlayer_size: 32\n",
            "\u001b[34m\u001b[1mwandb\u001b[0m: \tlearning_rate: 0.001\n",
            "\u001b[34m\u001b[1mwandb\u001b[0m: \toptimizer: SGD\n",
            "\u001b[34m\u001b[1mwandb\u001b[0m: \tweight_decay: 0.0005\n",
            "\u001b[34m\u001b[1mwandb\u001b[0m: \tweight_init: Xavier\n"
          ]
        },
        {
          "output_type": "display_data",
          "data": {
            "text/plain": [
              "<IPython.core.display.HTML object>"
            ],
            "text/html": [
              "Tracking run with wandb version 0.19.7"
            ]
          },
          "metadata": {}
        },
        {
          "output_type": "display_data",
          "data": {
            "text/plain": [
              "<IPython.core.display.HTML object>"
            ],
            "text/html": [
              "Run data is saved locally in <code>/content/wandb/run-20250302_052419-b8oruiov</code>"
            ]
          },
          "metadata": {}
        },
        {
          "output_type": "display_data",
          "data": {
            "text/plain": [
              "<IPython.core.display.HTML object>"
            ],
            "text/html": [
              "Syncing run <strong><a href='https://wandb.ai/24mcs115-national-institute-of-technology-hamirpur/Ex-4-fashion-mnist-sweep/runs/b8oruiov' target=\"_blank\">legendary-sweep-1</a></strong> to <a href='https://wandb.ai/24mcs115-national-institute-of-technology-hamirpur/Ex-4-fashion-mnist-sweep' target=\"_blank\">Weights & Biases</a> (<a href='https://wandb.me/developer-guide' target=\"_blank\">docs</a>)<br>Sweep page: <a href='https://wandb.ai/24mcs115-national-institute-of-technology-hamirpur/Ex-4-fashion-mnist-sweep/sweeps/eicb1d95' target=\"_blank\">https://wandb.ai/24mcs115-national-institute-of-technology-hamirpur/Ex-4-fashion-mnist-sweep/sweeps/eicb1d95</a>"
            ]
          },
          "metadata": {}
        },
        {
          "output_type": "display_data",
          "data": {
            "text/plain": [
              "<IPython.core.display.HTML object>"
            ],
            "text/html": [
              " View project at <a href='https://wandb.ai/24mcs115-national-institute-of-technology-hamirpur/Ex-4-fashion-mnist-sweep' target=\"_blank\">https://wandb.ai/24mcs115-national-institute-of-technology-hamirpur/Ex-4-fashion-mnist-sweep</a>"
            ]
          },
          "metadata": {}
        },
        {
          "output_type": "display_data",
          "data": {
            "text/plain": [
              "<IPython.core.display.HTML object>"
            ],
            "text/html": [
              " View sweep at <a href='https://wandb.ai/24mcs115-national-institute-of-technology-hamirpur/Ex-4-fashion-mnist-sweep/sweeps/eicb1d95' target=\"_blank\">https://wandb.ai/24mcs115-national-institute-of-technology-hamirpur/Ex-4-fashion-mnist-sweep/sweeps/eicb1d95</a>"
            ]
          },
          "metadata": {}
        },
        {
          "output_type": "display_data",
          "data": {
            "text/plain": [
              "<IPython.core.display.HTML object>"
            ],
            "text/html": [
              " View run at <a href='https://wandb.ai/24mcs115-national-institute-of-technology-hamirpur/Ex-4-fashion-mnist-sweep/runs/b8oruiov' target=\"_blank\">https://wandb.ai/24mcs115-national-institute-of-technology-hamirpur/Ex-4-fashion-mnist-sweep/runs/b8oruiov</a>"
            ]
          },
          "metadata": {}
        },
        {
          "output_type": "stream",
          "name": "stdout",
          "text": [
            "Epoch 0: Training Loss = 2.3328, Validation Loss = 2.3005\n"
          ]
        },
        {
          "output_type": "display_data",
          "data": {
            "text/plain": [
              "<IPython.core.display.HTML object>"
            ],
            "text/html": []
          },
          "metadata": {}
        },
        {
          "output_type": "display_data",
          "data": {
            "text/plain": [
              "<IPython.core.display.HTML object>"
            ],
            "text/html": [
              "<br>    <style><br>        .wandb-row {<br>            display: flex;<br>            flex-direction: row;<br>            flex-wrap: wrap;<br>            justify-content: flex-start;<br>            width: 100%;<br>        }<br>        .wandb-col {<br>            display: flex;<br>            flex-direction: column;<br>            flex-basis: 100%;<br>            flex: 1;<br>            padding: 10px;<br>        }<br>    </style><br><div class=\"wandb-row\"><div class=\"wandb-col\"><h3>Run history:</h3><br/><table class=\"wandb\"><tr><td>Training Loss</td><td>▇█▁▃▃</td></tr><tr><td>Validation Loss</td><td>▁▂▄▆█</td></tr></table><br/></div><div class=\"wandb-col\"><h3>Run summary:</h3><br/><table class=\"wandb\"><tr><td>Final Training Loss</td><td>2.28216</td></tr><tr><td>Final Validation Loss</td><td>2.3026</td></tr><tr><td>Training Loss</td><td>2.28216</td></tr><tr><td>Validation Loss</td><td>2.3026</td></tr></table><br/></div></div>"
            ]
          },
          "metadata": {}
        },
        {
          "output_type": "display_data",
          "data": {
            "text/plain": [
              "<IPython.core.display.HTML object>"
            ],
            "text/html": [
              " View run <strong style=\"color:#cdcd00\">hl_2_bs_16_ac_ReLU</strong> at: <a href='https://wandb.ai/24mcs115-national-institute-of-technology-hamirpur/Ex-4-fashion-mnist-sweep/runs/b8oruiov' target=\"_blank\">https://wandb.ai/24mcs115-national-institute-of-technology-hamirpur/Ex-4-fashion-mnist-sweep/runs/b8oruiov</a><br> View project at: <a href='https://wandb.ai/24mcs115-national-institute-of-technology-hamirpur/Ex-4-fashion-mnist-sweep' target=\"_blank\">https://wandb.ai/24mcs115-national-institute-of-technology-hamirpur/Ex-4-fashion-mnist-sweep</a><br>Synced 5 W&B file(s), 1 media file(s), 0 artifact file(s) and 0 other file(s)"
            ]
          },
          "metadata": {}
        },
        {
          "output_type": "display_data",
          "data": {
            "text/plain": [
              "<IPython.core.display.HTML object>"
            ],
            "text/html": [
              "Find logs at: <code>./wandb/run-20250302_052419-b8oruiov/logs</code>"
            ]
          },
          "metadata": {}
        },
        {
          "output_type": "stream",
          "name": "stderr",
          "text": [
            "\u001b[34m\u001b[1mwandb\u001b[0m: Agent Starting Run: lemsn42a with config:\n",
            "\u001b[34m\u001b[1mwandb\u001b[0m: \tactivation: ReLU\n",
            "\u001b[34m\u001b[1mwandb\u001b[0m: \tbatch_size: 16\n",
            "\u001b[34m\u001b[1mwandb\u001b[0m: \tepochs: 5\n",
            "\u001b[34m\u001b[1mwandb\u001b[0m: \thidden_layers: 2\n",
            "\u001b[34m\u001b[1mwandb\u001b[0m: \tlayer_size: 32\n",
            "\u001b[34m\u001b[1mwandb\u001b[0m: \tlearning_rate: 0.001\n",
            "\u001b[34m\u001b[1mwandb\u001b[0m: \toptimizer: SGD\n",
            "\u001b[34m\u001b[1mwandb\u001b[0m: \tweight_decay: 0.0005\n",
            "\u001b[34m\u001b[1mwandb\u001b[0m: \tweight_init: Xavier\n"
          ]
        },
        {
          "output_type": "display_data",
          "data": {
            "text/plain": [
              "<IPython.core.display.HTML object>"
            ],
            "text/html": [
              "Tracking run with wandb version 0.19.7"
            ]
          },
          "metadata": {}
        },
        {
          "output_type": "display_data",
          "data": {
            "text/plain": [
              "<IPython.core.display.HTML object>"
            ],
            "text/html": [
              "Run data is saved locally in <code>/content/wandb/run-20250302_052430-lemsn42a</code>"
            ]
          },
          "metadata": {}
        },
        {
          "output_type": "display_data",
          "data": {
            "text/plain": [
              "<IPython.core.display.HTML object>"
            ],
            "text/html": [
              "Syncing run <strong><a href='https://wandb.ai/24mcs115-national-institute-of-technology-hamirpur/Ex-4-fashion-mnist-sweep/runs/lemsn42a' target=\"_blank\">misunderstood-sweep-2</a></strong> to <a href='https://wandb.ai/24mcs115-national-institute-of-technology-hamirpur/Ex-4-fashion-mnist-sweep' target=\"_blank\">Weights & Biases</a> (<a href='https://wandb.me/developer-guide' target=\"_blank\">docs</a>)<br>Sweep page: <a href='https://wandb.ai/24mcs115-national-institute-of-technology-hamirpur/Ex-4-fashion-mnist-sweep/sweeps/eicb1d95' target=\"_blank\">https://wandb.ai/24mcs115-national-institute-of-technology-hamirpur/Ex-4-fashion-mnist-sweep/sweeps/eicb1d95</a>"
            ]
          },
          "metadata": {}
        },
        {
          "output_type": "display_data",
          "data": {
            "text/plain": [
              "<IPython.core.display.HTML object>"
            ],
            "text/html": [
              " View project at <a href='https://wandb.ai/24mcs115-national-institute-of-technology-hamirpur/Ex-4-fashion-mnist-sweep' target=\"_blank\">https://wandb.ai/24mcs115-national-institute-of-technology-hamirpur/Ex-4-fashion-mnist-sweep</a>"
            ]
          },
          "metadata": {}
        },
        {
          "output_type": "display_data",
          "data": {
            "text/plain": [
              "<IPython.core.display.HTML object>"
            ],
            "text/html": [
              " View sweep at <a href='https://wandb.ai/24mcs115-national-institute-of-technology-hamirpur/Ex-4-fashion-mnist-sweep/sweeps/eicb1d95' target=\"_blank\">https://wandb.ai/24mcs115-national-institute-of-technology-hamirpur/Ex-4-fashion-mnist-sweep/sweeps/eicb1d95</a>"
            ]
          },
          "metadata": {}
        },
        {
          "output_type": "display_data",
          "data": {
            "text/plain": [
              "<IPython.core.display.HTML object>"
            ],
            "text/html": [
              " View run at <a href='https://wandb.ai/24mcs115-national-institute-of-technology-hamirpur/Ex-4-fashion-mnist-sweep/runs/lemsn42a' target=\"_blank\">https://wandb.ai/24mcs115-national-institute-of-technology-hamirpur/Ex-4-fashion-mnist-sweep/runs/lemsn42a</a>"
            ]
          },
          "metadata": {}
        },
        {
          "output_type": "stream",
          "name": "stdout",
          "text": [
            "Epoch 0: Training Loss = 2.3337, Validation Loss = 2.5613\n"
          ]
        },
        {
          "output_type": "display_data",
          "data": {
            "text/plain": [
              "<IPython.core.display.HTML object>"
            ],
            "text/html": []
          },
          "metadata": {}
        },
        {
          "output_type": "display_data",
          "data": {
            "text/plain": [
              "<IPython.core.display.HTML object>"
            ],
            "text/html": [
              "<br>    <style><br>        .wandb-row {<br>            display: flex;<br>            flex-direction: row;<br>            flex-wrap: wrap;<br>            justify-content: flex-start;<br>            width: 100%;<br>        }<br>        .wandb-col {<br>            display: flex;<br>            flex-direction: column;<br>            flex-basis: 100%;<br>            flex: 1;<br>            padding: 10px;<br>        }<br>    </style><br><div class=\"wandb-row\"><div class=\"wandb-col\"><h3>Run history:</h3><br/><table class=\"wandb\"><tr><td>Training Loss</td><td>▆▄▁██</td></tr><tr><td>Validation Loss</td><td>▆▆█▄▁</td></tr></table><br/></div><div class=\"wandb-col\"><h3>Run summary:</h3><br/><table class=\"wandb\"><tr><td>Final Training Loss</td><td>2.40013</td></tr><tr><td>Final Validation Loss</td><td>2.55785</td></tr><tr><td>Training Loss</td><td>2.40013</td></tr><tr><td>Validation Loss</td><td>2.55785</td></tr></table><br/></div></div>"
            ]
          },
          "metadata": {}
        },
        {
          "output_type": "display_data",
          "data": {
            "text/plain": [
              "<IPython.core.display.HTML object>"
            ],
            "text/html": [
              " View run <strong style=\"color:#cdcd00\">hl_2_bs_16_ac_ReLU</strong> at: <a href='https://wandb.ai/24mcs115-national-institute-of-technology-hamirpur/Ex-4-fashion-mnist-sweep/runs/lemsn42a' target=\"_blank\">https://wandb.ai/24mcs115-national-institute-of-technology-hamirpur/Ex-4-fashion-mnist-sweep/runs/lemsn42a</a><br> View project at: <a href='https://wandb.ai/24mcs115-national-institute-of-technology-hamirpur/Ex-4-fashion-mnist-sweep' target=\"_blank\">https://wandb.ai/24mcs115-national-institute-of-technology-hamirpur/Ex-4-fashion-mnist-sweep</a><br>Synced 5 W&B file(s), 1 media file(s), 0 artifact file(s) and 0 other file(s)"
            ]
          },
          "metadata": {}
        },
        {
          "output_type": "display_data",
          "data": {
            "text/plain": [
              "<IPython.core.display.HTML object>"
            ],
            "text/html": [
              "Find logs at: <code>./wandb/run-20250302_052430-lemsn42a/logs</code>"
            ]
          },
          "metadata": {}
        },
        {
          "output_type": "stream",
          "name": "stderr",
          "text": [
            "\u001b[34m\u001b[1mwandb\u001b[0m: Agent Starting Run: ulug57ic with config:\n",
            "\u001b[34m\u001b[1mwandb\u001b[0m: \tactivation: ReLU\n",
            "\u001b[34m\u001b[1mwandb\u001b[0m: \tbatch_size: 16\n",
            "\u001b[34m\u001b[1mwandb\u001b[0m: \tepochs: 5\n",
            "\u001b[34m\u001b[1mwandb\u001b[0m: \thidden_layers: 2\n",
            "\u001b[34m\u001b[1mwandb\u001b[0m: \tlayer_size: 32\n",
            "\u001b[34m\u001b[1mwandb\u001b[0m: \tlearning_rate: 0.001\n",
            "\u001b[34m\u001b[1mwandb\u001b[0m: \toptimizer: SGD\n",
            "\u001b[34m\u001b[1mwandb\u001b[0m: \tweight_decay: 0.0005\n",
            "\u001b[34m\u001b[1mwandb\u001b[0m: \tweight_init: Xavier\n"
          ]
        },
        {
          "output_type": "display_data",
          "data": {
            "text/plain": [
              "<IPython.core.display.HTML object>"
            ],
            "text/html": [
              "Tracking run with wandb version 0.19.7"
            ]
          },
          "metadata": {}
        },
        {
          "output_type": "display_data",
          "data": {
            "text/plain": [
              "<IPython.core.display.HTML object>"
            ],
            "text/html": [
              "Run data is saved locally in <code>/content/wandb/run-20250302_052441-ulug57ic</code>"
            ]
          },
          "metadata": {}
        },
        {
          "output_type": "display_data",
          "data": {
            "text/plain": [
              "<IPython.core.display.HTML object>"
            ],
            "text/html": [
              "Syncing run <strong><a href='https://wandb.ai/24mcs115-national-institute-of-technology-hamirpur/Ex-4-fashion-mnist-sweep/runs/ulug57ic' target=\"_blank\">bright-sweep-3</a></strong> to <a href='https://wandb.ai/24mcs115-national-institute-of-technology-hamirpur/Ex-4-fashion-mnist-sweep' target=\"_blank\">Weights & Biases</a> (<a href='https://wandb.me/developer-guide' target=\"_blank\">docs</a>)<br>Sweep page: <a href='https://wandb.ai/24mcs115-national-institute-of-technology-hamirpur/Ex-4-fashion-mnist-sweep/sweeps/eicb1d95' target=\"_blank\">https://wandb.ai/24mcs115-national-institute-of-technology-hamirpur/Ex-4-fashion-mnist-sweep/sweeps/eicb1d95</a>"
            ]
          },
          "metadata": {}
        },
        {
          "output_type": "display_data",
          "data": {
            "text/plain": [
              "<IPython.core.display.HTML object>"
            ],
            "text/html": [
              " View project at <a href='https://wandb.ai/24mcs115-national-institute-of-technology-hamirpur/Ex-4-fashion-mnist-sweep' target=\"_blank\">https://wandb.ai/24mcs115-national-institute-of-technology-hamirpur/Ex-4-fashion-mnist-sweep</a>"
            ]
          },
          "metadata": {}
        },
        {
          "output_type": "display_data",
          "data": {
            "text/plain": [
              "<IPython.core.display.HTML object>"
            ],
            "text/html": [
              " View sweep at <a href='https://wandb.ai/24mcs115-national-institute-of-technology-hamirpur/Ex-4-fashion-mnist-sweep/sweeps/eicb1d95' target=\"_blank\">https://wandb.ai/24mcs115-national-institute-of-technology-hamirpur/Ex-4-fashion-mnist-sweep/sweeps/eicb1d95</a>"
            ]
          },
          "metadata": {}
        },
        {
          "output_type": "display_data",
          "data": {
            "text/plain": [
              "<IPython.core.display.HTML object>"
            ],
            "text/html": [
              " View run at <a href='https://wandb.ai/24mcs115-national-institute-of-technology-hamirpur/Ex-4-fashion-mnist-sweep/runs/ulug57ic' target=\"_blank\">https://wandb.ai/24mcs115-national-institute-of-technology-hamirpur/Ex-4-fashion-mnist-sweep/runs/ulug57ic</a>"
            ]
          },
          "metadata": {}
        },
        {
          "output_type": "stream",
          "name": "stdout",
          "text": [
            "Epoch 0: Training Loss = 2.3195, Validation Loss = 2.3290\n"
          ]
        },
        {
          "output_type": "display_data",
          "data": {
            "text/plain": [
              "<IPython.core.display.HTML object>"
            ],
            "text/html": []
          },
          "metadata": {}
        },
        {
          "output_type": "display_data",
          "data": {
            "text/plain": [
              "<IPython.core.display.HTML object>"
            ],
            "text/html": [
              "<br>    <style><br>        .wandb-row {<br>            display: flex;<br>            flex-direction: row;<br>            flex-wrap: wrap;<br>            justify-content: flex-start;<br>            width: 100%;<br>        }<br>        .wandb-col {<br>            display: flex;<br>            flex-direction: column;<br>            flex-basis: 100%;<br>            flex: 1;<br>            padding: 10px;<br>        }<br>    </style><br><div class=\"wandb-row\"><div class=\"wandb-col\"><h3>Run history:</h3><br/><table class=\"wandb\"><tr><td>Training Loss</td><td>█▁▇▇▅</td></tr><tr><td>Validation Loss</td><td>▁▆▃█▃</td></tr></table><br/></div><div class=\"wandb-col\"><h3>Run summary:</h3><br/><table class=\"wandb\"><tr><td>Final Training Loss</td><td>2.28772</td></tr><tr><td>Final Validation Loss</td><td>2.32936</td></tr><tr><td>Training Loss</td><td>2.28772</td></tr><tr><td>Validation Loss</td><td>2.32936</td></tr></table><br/></div></div>"
            ]
          },
          "metadata": {}
        },
        {
          "output_type": "display_data",
          "data": {
            "text/plain": [
              "<IPython.core.display.HTML object>"
            ],
            "text/html": [
              " View run <strong style=\"color:#cdcd00\">hl_2_bs_16_ac_ReLU</strong> at: <a href='https://wandb.ai/24mcs115-national-institute-of-technology-hamirpur/Ex-4-fashion-mnist-sweep/runs/ulug57ic' target=\"_blank\">https://wandb.ai/24mcs115-national-institute-of-technology-hamirpur/Ex-4-fashion-mnist-sweep/runs/ulug57ic</a><br> View project at: <a href='https://wandb.ai/24mcs115-national-institute-of-technology-hamirpur/Ex-4-fashion-mnist-sweep' target=\"_blank\">https://wandb.ai/24mcs115-national-institute-of-technology-hamirpur/Ex-4-fashion-mnist-sweep</a><br>Synced 5 W&B file(s), 1 media file(s), 0 artifact file(s) and 0 other file(s)"
            ]
          },
          "metadata": {}
        },
        {
          "output_type": "display_data",
          "data": {
            "text/plain": [
              "<IPython.core.display.HTML object>"
            ],
            "text/html": [
              "Find logs at: <code>./wandb/run-20250302_052441-ulug57ic/logs</code>"
            ]
          },
          "metadata": {}
        },
        {
          "output_type": "stream",
          "name": "stderr",
          "text": [
            "\u001b[34m\u001b[1mwandb\u001b[0m: Agent Starting Run: y7rie78r with config:\n",
            "\u001b[34m\u001b[1mwandb\u001b[0m: \tactivation: ReLU\n",
            "\u001b[34m\u001b[1mwandb\u001b[0m: \tbatch_size: 16\n",
            "\u001b[34m\u001b[1mwandb\u001b[0m: \tepochs: 5\n",
            "\u001b[34m\u001b[1mwandb\u001b[0m: \thidden_layers: 2\n",
            "\u001b[34m\u001b[1mwandb\u001b[0m: \tlayer_size: 32\n",
            "\u001b[34m\u001b[1mwandb\u001b[0m: \tlearning_rate: 0.001\n",
            "\u001b[34m\u001b[1mwandb\u001b[0m: \toptimizer: SGD\n",
            "\u001b[34m\u001b[1mwandb\u001b[0m: \tweight_decay: 0.0005\n",
            "\u001b[34m\u001b[1mwandb\u001b[0m: \tweight_init: Xavier\n"
          ]
        },
        {
          "output_type": "display_data",
          "data": {
            "text/plain": [
              "<IPython.core.display.HTML object>"
            ],
            "text/html": [
              "Tracking run with wandb version 0.19.7"
            ]
          },
          "metadata": {}
        },
        {
          "output_type": "display_data",
          "data": {
            "text/plain": [
              "<IPython.core.display.HTML object>"
            ],
            "text/html": [
              "Run data is saved locally in <code>/content/wandb/run-20250302_052451-y7rie78r</code>"
            ]
          },
          "metadata": {}
        },
        {
          "output_type": "display_data",
          "data": {
            "text/plain": [
              "<IPython.core.display.HTML object>"
            ],
            "text/html": [
              "Syncing run <strong><a href='https://wandb.ai/24mcs115-national-institute-of-technology-hamirpur/Ex-4-fashion-mnist-sweep/runs/y7rie78r' target=\"_blank\">vital-sweep-4</a></strong> to <a href='https://wandb.ai/24mcs115-national-institute-of-technology-hamirpur/Ex-4-fashion-mnist-sweep' target=\"_blank\">Weights & Biases</a> (<a href='https://wandb.me/developer-guide' target=\"_blank\">docs</a>)<br>Sweep page: <a href='https://wandb.ai/24mcs115-national-institute-of-technology-hamirpur/Ex-4-fashion-mnist-sweep/sweeps/eicb1d95' target=\"_blank\">https://wandb.ai/24mcs115-national-institute-of-technology-hamirpur/Ex-4-fashion-mnist-sweep/sweeps/eicb1d95</a>"
            ]
          },
          "metadata": {}
        },
        {
          "output_type": "display_data",
          "data": {
            "text/plain": [
              "<IPython.core.display.HTML object>"
            ],
            "text/html": [
              " View project at <a href='https://wandb.ai/24mcs115-national-institute-of-technology-hamirpur/Ex-4-fashion-mnist-sweep' target=\"_blank\">https://wandb.ai/24mcs115-national-institute-of-technology-hamirpur/Ex-4-fashion-mnist-sweep</a>"
            ]
          },
          "metadata": {}
        },
        {
          "output_type": "display_data",
          "data": {
            "text/plain": [
              "<IPython.core.display.HTML object>"
            ],
            "text/html": [
              " View sweep at <a href='https://wandb.ai/24mcs115-national-institute-of-technology-hamirpur/Ex-4-fashion-mnist-sweep/sweeps/eicb1d95' target=\"_blank\">https://wandb.ai/24mcs115-national-institute-of-technology-hamirpur/Ex-4-fashion-mnist-sweep/sweeps/eicb1d95</a>"
            ]
          },
          "metadata": {}
        },
        {
          "output_type": "display_data",
          "data": {
            "text/plain": [
              "<IPython.core.display.HTML object>"
            ],
            "text/html": [
              " View run at <a href='https://wandb.ai/24mcs115-national-institute-of-technology-hamirpur/Ex-4-fashion-mnist-sweep/runs/y7rie78r' target=\"_blank\">https://wandb.ai/24mcs115-national-institute-of-technology-hamirpur/Ex-4-fashion-mnist-sweep/runs/y7rie78r</a>"
            ]
          },
          "metadata": {}
        },
        {
          "output_type": "stream",
          "name": "stdout",
          "text": [
            "Epoch 0: Training Loss = 2.2797, Validation Loss = 2.2940\n"
          ]
        },
        {
          "output_type": "display_data",
          "data": {
            "text/plain": [
              "<IPython.core.display.HTML object>"
            ],
            "text/html": []
          },
          "metadata": {}
        },
        {
          "output_type": "display_data",
          "data": {
            "text/plain": [
              "<IPython.core.display.HTML object>"
            ],
            "text/html": [
              "<br>    <style><br>        .wandb-row {<br>            display: flex;<br>            flex-direction: row;<br>            flex-wrap: wrap;<br>            justify-content: flex-start;<br>            width: 100%;<br>        }<br>        .wandb-col {<br>            display: flex;<br>            flex-direction: column;<br>            flex-basis: 100%;<br>            flex: 1;<br>            padding: 10px;<br>        }<br>    </style><br><div class=\"wandb-row\"><div class=\"wandb-col\"><h3>Run history:</h3><br/><table class=\"wandb\"><tr><td>Training Loss</td><td>▁█▁▄▂</td></tr><tr><td>Validation Loss</td><td>▃▁█▄▁</td></tr></table><br/></div><div class=\"wandb-col\"><h3>Run summary:</h3><br/><table class=\"wandb\"><tr><td>Final Training Loss</td><td>2.28533</td></tr><tr><td>Final Validation Loss</td><td>2.29381</td></tr><tr><td>Training Loss</td><td>2.28533</td></tr><tr><td>Validation Loss</td><td>2.29381</td></tr></table><br/></div></div>"
            ]
          },
          "metadata": {}
        },
        {
          "output_type": "display_data",
          "data": {
            "text/plain": [
              "<IPython.core.display.HTML object>"
            ],
            "text/html": [
              " View run <strong style=\"color:#cdcd00\">hl_2_bs_16_ac_ReLU</strong> at: <a href='https://wandb.ai/24mcs115-national-institute-of-technology-hamirpur/Ex-4-fashion-mnist-sweep/runs/y7rie78r' target=\"_blank\">https://wandb.ai/24mcs115-national-institute-of-technology-hamirpur/Ex-4-fashion-mnist-sweep/runs/y7rie78r</a><br> View project at: <a href='https://wandb.ai/24mcs115-national-institute-of-technology-hamirpur/Ex-4-fashion-mnist-sweep' target=\"_blank\">https://wandb.ai/24mcs115-national-institute-of-technology-hamirpur/Ex-4-fashion-mnist-sweep</a><br>Synced 5 W&B file(s), 1 media file(s), 0 artifact file(s) and 0 other file(s)"
            ]
          },
          "metadata": {}
        },
        {
          "output_type": "display_data",
          "data": {
            "text/plain": [
              "<IPython.core.display.HTML object>"
            ],
            "text/html": [
              "Find logs at: <code>./wandb/run-20250302_052451-y7rie78r/logs</code>"
            ]
          },
          "metadata": {}
        },
        {
          "output_type": "stream",
          "name": "stderr",
          "text": [
            "\u001b[34m\u001b[1mwandb\u001b[0m: Agent Starting Run: xps1h6e3 with config:\n",
            "\u001b[34m\u001b[1mwandb\u001b[0m: \tactivation: ReLU\n",
            "\u001b[34m\u001b[1mwandb\u001b[0m: \tbatch_size: 16\n",
            "\u001b[34m\u001b[1mwandb\u001b[0m: \tepochs: 5\n",
            "\u001b[34m\u001b[1mwandb\u001b[0m: \thidden_layers: 2\n",
            "\u001b[34m\u001b[1mwandb\u001b[0m: \tlayer_size: 32\n",
            "\u001b[34m\u001b[1mwandb\u001b[0m: \tlearning_rate: 0.001\n",
            "\u001b[34m\u001b[1mwandb\u001b[0m: \toptimizer: SGD\n",
            "\u001b[34m\u001b[1mwandb\u001b[0m: \tweight_decay: 0.0005\n",
            "\u001b[34m\u001b[1mwandb\u001b[0m: \tweight_init: Xavier\n"
          ]
        },
        {
          "output_type": "display_data",
          "data": {
            "text/plain": [
              "<IPython.core.display.HTML object>"
            ],
            "text/html": [
              "Tracking run with wandb version 0.19.7"
            ]
          },
          "metadata": {}
        },
        {
          "output_type": "display_data",
          "data": {
            "text/plain": [
              "<IPython.core.display.HTML object>"
            ],
            "text/html": [
              "Run data is saved locally in <code>/content/wandb/run-20250302_052502-xps1h6e3</code>"
            ]
          },
          "metadata": {}
        },
        {
          "output_type": "display_data",
          "data": {
            "text/plain": [
              "<IPython.core.display.HTML object>"
            ],
            "text/html": [
              "Syncing run <strong><a href='https://wandb.ai/24mcs115-national-institute-of-technology-hamirpur/Ex-4-fashion-mnist-sweep/runs/xps1h6e3' target=\"_blank\">resilient-sweep-5</a></strong> to <a href='https://wandb.ai/24mcs115-national-institute-of-technology-hamirpur/Ex-4-fashion-mnist-sweep' target=\"_blank\">Weights & Biases</a> (<a href='https://wandb.me/developer-guide' target=\"_blank\">docs</a>)<br>Sweep page: <a href='https://wandb.ai/24mcs115-national-institute-of-technology-hamirpur/Ex-4-fashion-mnist-sweep/sweeps/eicb1d95' target=\"_blank\">https://wandb.ai/24mcs115-national-institute-of-technology-hamirpur/Ex-4-fashion-mnist-sweep/sweeps/eicb1d95</a>"
            ]
          },
          "metadata": {}
        },
        {
          "output_type": "display_data",
          "data": {
            "text/plain": [
              "<IPython.core.display.HTML object>"
            ],
            "text/html": [
              " View project at <a href='https://wandb.ai/24mcs115-national-institute-of-technology-hamirpur/Ex-4-fashion-mnist-sweep' target=\"_blank\">https://wandb.ai/24mcs115-national-institute-of-technology-hamirpur/Ex-4-fashion-mnist-sweep</a>"
            ]
          },
          "metadata": {}
        },
        {
          "output_type": "display_data",
          "data": {
            "text/plain": [
              "<IPython.core.display.HTML object>"
            ],
            "text/html": [
              " View sweep at <a href='https://wandb.ai/24mcs115-national-institute-of-technology-hamirpur/Ex-4-fashion-mnist-sweep/sweeps/eicb1d95' target=\"_blank\">https://wandb.ai/24mcs115-national-institute-of-technology-hamirpur/Ex-4-fashion-mnist-sweep/sweeps/eicb1d95</a>"
            ]
          },
          "metadata": {}
        },
        {
          "output_type": "display_data",
          "data": {
            "text/plain": [
              "<IPython.core.display.HTML object>"
            ],
            "text/html": [
              " View run at <a href='https://wandb.ai/24mcs115-national-institute-of-technology-hamirpur/Ex-4-fashion-mnist-sweep/runs/xps1h6e3' target=\"_blank\">https://wandb.ai/24mcs115-national-institute-of-technology-hamirpur/Ex-4-fashion-mnist-sweep/runs/xps1h6e3</a>"
            ]
          },
          "metadata": {}
        },
        {
          "output_type": "stream",
          "name": "stdout",
          "text": [
            "Epoch 0: Training Loss = 2.3189, Validation Loss = 2.2941\n"
          ]
        },
        {
          "output_type": "display_data",
          "data": {
            "text/plain": [
              "<IPython.core.display.HTML object>"
            ],
            "text/html": []
          },
          "metadata": {}
        },
        {
          "output_type": "display_data",
          "data": {
            "text/plain": [
              "<IPython.core.display.HTML object>"
            ],
            "text/html": [
              "<br>    <style><br>        .wandb-row {<br>            display: flex;<br>            flex-direction: row;<br>            flex-wrap: wrap;<br>            justify-content: flex-start;<br>            width: 100%;<br>        }<br>        .wandb-col {<br>            display: flex;<br>            flex-direction: column;<br>            flex-basis: 100%;<br>            flex: 1;<br>            padding: 10px;<br>        }<br>    </style><br><div class=\"wandb-row\"><div class=\"wandb-col\"><h3>Run history:</h3><br/><table class=\"wandb\"><tr><td>Training Loss</td><td>▂▁█▅▅</td></tr><tr><td>Validation Loss</td><td>██▂▁▅</td></tr></table><br/></div><div class=\"wandb-col\"><h3>Run summary:</h3><br/><table class=\"wandb\"><tr><td>Final Training Loss</td><td>2.35358</td></tr><tr><td>Final Validation Loss</td><td>2.29165</td></tr><tr><td>Training Loss</td><td>2.35358</td></tr><tr><td>Validation Loss</td><td>2.29165</td></tr></table><br/></div></div>"
            ]
          },
          "metadata": {}
        },
        {
          "output_type": "display_data",
          "data": {
            "text/plain": [
              "<IPython.core.display.HTML object>"
            ],
            "text/html": [
              " View run <strong style=\"color:#cdcd00\">hl_2_bs_16_ac_ReLU</strong> at: <a href='https://wandb.ai/24mcs115-national-institute-of-technology-hamirpur/Ex-4-fashion-mnist-sweep/runs/xps1h6e3' target=\"_blank\">https://wandb.ai/24mcs115-national-institute-of-technology-hamirpur/Ex-4-fashion-mnist-sweep/runs/xps1h6e3</a><br> View project at: <a href='https://wandb.ai/24mcs115-national-institute-of-technology-hamirpur/Ex-4-fashion-mnist-sweep' target=\"_blank\">https://wandb.ai/24mcs115-national-institute-of-technology-hamirpur/Ex-4-fashion-mnist-sweep</a><br>Synced 5 W&B file(s), 1 media file(s), 0 artifact file(s) and 0 other file(s)"
            ]
          },
          "metadata": {}
        },
        {
          "output_type": "display_data",
          "data": {
            "text/plain": [
              "<IPython.core.display.HTML object>"
            ],
            "text/html": [
              "Find logs at: <code>./wandb/run-20250302_052502-xps1h6e3/logs</code>"
            ]
          },
          "metadata": {}
        },
        {
          "output_type": "display_data",
          "data": {
            "text/plain": [
              "<Figure size 800x500 with 1 Axes>"
            ],
            "image/png": "[encoded data removed]"
          },
          "metadata": {}
        },
        {
          "output_type": "display_data",
          "data": {
            "text/plain": [
              "<Figure size 800x500 with 1 Axes>"
            ],
            "image/png": "[encoded data removed]"
          },
          "metadata": {}
        },
        {
          "output_type": "display_data",
          "data": {
            "text/plain": [
              "<Figure size 800x500 with 1 Axes>"
            ],
            "image/png": "[encoded data removed]"
          },
          "metadata": {}
        },
        {
          "output_type": "display_data",
          "data": {
            "text/plain": [
              "<Figure size 800x500 with 1 Axes>"
            ],
            "image/png": "[encoded data removed]"
          },
          "metadata": {}
        },
        {
          "output_type": "display_data",
          "data": {
            "text/plain": [
              "<Figure size 800x500 with 1 Axes>"
            ],
            "image/png": "[encoded data removed]"
          },
          "metadata": {}
        }
      ]
    },
    {
      "cell_type": "code",
      "source": [],
      "metadata": {
        "id": "rBrI1xw9PC2d"
      },
      "execution_count": null,
      "outputs": []
    }
  ]
}